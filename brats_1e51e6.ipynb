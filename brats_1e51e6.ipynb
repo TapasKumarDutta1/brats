{
  "nbformat": 4,
  "nbformat_minor": 0,
  "metadata": {
    "colab": {
      "name": "brats_1e51e6.ipynb",
      "provenance": [],
      "authorship_tag": "ABX9TyP59C62bb/8pSdNTH7LREik",
      "include_colab_link": true
    },
    "kernelspec": {
      "name": "python3",
      "display_name": "Python 3"
    },
    "language_info": {
      "name": "python"
    },
    "accelerator": "GPU"
  },
  "cells": [
    {
      "cell_type": "markdown",
      "metadata": {
        "id": "view-in-github",
        "colab_type": "text"
      },
      "source": [
        "<a href=\"https://colab.research.google.com/github/greyhound101/brats/blob/main/brats_1e51e6.ipynb\" target=\"_parent\"><img src=\"https://colab.research.google.com/assets/colab-badge.svg\" alt=\"Open In Colab\"/></a>"
      ]
    },
    {
      "cell_type": "code",
      "metadata": {
        "colab": {
          "base_uri": "https://localhost:8080/"
        },
        "id": "9BE8ybeW8ohO",
        "outputId": "58aaa125-bfd8-464f-9ada-1b451d887925"
      },
      "source": [
        "from google.colab import drive\n",
        "drive.mount('/content/gdrive')\n",
        "drive.mount(\"/content/gdrive\", force_remount=True)"
      ],
      "execution_count": null,
      "outputs": [
        {
          "output_type": "stream",
          "text": [
            "Drive already mounted at /content/gdrive; to attempt to forcibly remount, call drive.mount(\"/content/gdrive\", force_remount=True).\n",
            "Mounted at /content/gdrive\n"
          ],
          "name": "stdout"
        }
      ]
    },
    {
      "cell_type": "code",
      "metadata": {
        "colab": {
          "base_uri": "https://localhost:8080/"
        },
        "id": "WH28Ai7h8sKd",
        "outputId": "b12f20bd-da74-4db5-aa1f-653c2b4277a0"
      },
      "source": [
        "pip install medpy"
      ],
      "execution_count": null,
      "outputs": [
        {
          "output_type": "stream",
          "text": [
            "Requirement already satisfied: medpy in /usr/local/lib/python3.7/dist-packages (0.4.0)\n",
            "Requirement already satisfied: numpy>=1.11.0 in /usr/local/lib/python3.7/dist-packages (from medpy) (1.19.5)\n",
            "Requirement already satisfied: SimpleITK>=1.1.0 in /usr/local/lib/python3.7/dist-packages (from medpy) (2.0.2)\n",
            "Requirement already satisfied: scipy>=1.1.0 in /usr/local/lib/python3.7/dist-packages (from medpy) (1.4.1)\n"
          ],
          "name": "stdout"
        }
      ]
    },
    {
      "cell_type": "code",
      "metadata": {
        "id": "3b41zmYl81Sb"
      },
      "source": [
        "import numpy as np\n",
        "images=np.load('/content/gdrive/MyDrive/Brats2d/images.npy')\n",
        "targets=np.load('/content/gdrive/MyDrive/Brats2d/targets.npy')"
      ],
      "execution_count": null,
      "outputs": []
    },
    {
      "cell_type": "code",
      "metadata": {
        "id": "hUjMFxZE8zC4"
      },
      "source": [
        "from sklearn.model_selection import train_test_split\n",
        "X_train, X_test, y_train, y_test = train_test_split(images,targets, test_size=0.33, random_state=42)"
      ],
      "execution_count": null,
      "outputs": []
    },
    {
      "cell_type": "code",
      "metadata": {
        "id": "Cp7oJ7Jw8_ZO"
      },
      "source": [
        "from tensorflow.keras.layers import *\n",
        "import tensorflow as tf\n",
        "import random, os, sys\n",
        "import numpy as np\n",
        "from tensorflow.keras.models import *\n",
        "from tensorflow.keras.layers import *\n",
        "from tensorflow.keras.callbacks import *\n",
        "from tensorflow.keras.initializers import *\n",
        "import tensorflow as tf\n",
        "from tensorflow.keras.applications import *\n",
        "from tensorflow.keras.layers import *\n",
        "from tensorflow.keras import backend as K\n",
        "from tensorflow.keras.models import Model\n",
        "from tensorflow import keras\n",
        "from tensorflow.keras import backend as K\n",
        "class LayerNormalization(Layer):\n",
        "    def __init__(self, eps=1e-6, **kwargs):\n",
        "        self.eps = eps\n",
        "        super(LayerNormalization, self).__init__(**kwargs)\n",
        "    def build(self, input_shape):\n",
        "        self.gamma = self.add_weight(name='gamma', shape=input_shape[-1:],\n",
        "                                     initializer=Ones(), trainable=True)\n",
        "        self.beta = self.add_weight(name='beta', shape=input_shape[-1:],\n",
        "                                    initializer=Zeros(), trainable=True)\n",
        "        super(LayerNormalization, self).build(input_shape)\n",
        "    def call(self, x):\n",
        "        mean = K.mean(x, axis=-1, keepdims=True)\n",
        "        std = K.std(x, axis=-1, keepdims=True)\n",
        "        return self.gamma * (x - mean) / (std + self.eps) + self.beta\n",
        "    def compute_output_shape(self, input_shape):\n",
        "        return input_shape\n",
        "class abc(keras.layers.Layer):\n",
        "    def __init__(self,\n",
        "                 hidden_dim,\n",
        "                 **kwargs):\n",
        "        self.hidden_dim = hidden_dim\n",
        "        \n",
        "        self.conv1=Conv1D(self.hidden_dim,1)\n",
        "        self.conv2=Conv1D(self.hidden_dim,1)\n",
        "        self.conv3=Conv1D(self.hidden_dim,1)\n",
        "        \n",
        "        self.Wq = self.Wk = self.Wv = self.Wo = None\n",
        "        self.bq = self.bk = self.bv = self.bo = None\n",
        "\n",
        "        self.intensity = self.attention = None\n",
        "        super(abc, self).__init__(**kwargs)\n",
        "\n",
        "    def call(self, inputs, mask=None):\n",
        "        \n",
        "        q, k, v = inputs\n",
        "        \n",
        "        q=self.conv1(q)\n",
        "        k=self.conv2(k)\n",
        "        v=self.conv3(v)\n",
        "        \n",
        "        \n",
        "        def scaled_dot_product_attention(inputs):\n",
        "          query, key, value = inputs\n",
        "          feature_dim = K.shape(query)[-1]\n",
        "          e = K.batch_dot(query, key, axes=2) \n",
        "          intensity = e\n",
        "          e = K.exp(e - K.max(e, axis=-1, keepdims=True))\n",
        "          attention = e / K.sum(e, axis=-1, keepdims=True)\n",
        "          v = K.batch_dot(attention, value)\n",
        "          return v\n",
        "       \n",
        "       \n",
        "        y = scaled_dot_product_attention(inputs=[q,k,v])\n",
        "        \n",
        "        \n",
        "        return y\n",
        "\n",
        "from tensorflow import keras \n",
        "from tensorflow.keras.regularizers import l2\n",
        "from tensorflow.keras.layers import *\n",
        "from tensorflow.keras.applications import *\n",
        "def load_model():   \n",
        "  \n",
        "  K.clear_session() \n",
        "  mod=densenet.DenseNet121(include_top=True, weights='imagenet')\n",
        "  d = mod.get_layer('conv5_block16_concat').output\n",
        "\n",
        "  inp = mod.get_layer('conv3_block12_concat').output\n",
        "  a = Reshape((28*28,512))(inp)\n",
        "  d_a = keras.layers.UpSampling2D(interpolation='bilinear',size=(4,4))(d)\n",
        "  d_a = Reshape((28*28,1024))(d_a)\n",
        "  a = abc(hidden_dim=512)([a,d_a,a])\n",
        "  a = LayerNormalization()(a)\n",
        "  a = Reshape((28,28,512,))(a)\n",
        "  a = keras.layers.GlobalAveragePooling2D()(a)\n",
        "\n",
        "  inp = mod.get_layer('conv4_block24_concat').output\n",
        "  b = Reshape((14*14,1024))(inp)\n",
        "  d_b = keras.layers.UpSampling2D(interpolation='bilinear',size=(2,2))(d)\n",
        "  d_b = Reshape((14*14,1024))(d_b)\n",
        "  b = abc(hidden_dim=1024)([b,d_b,b])\n",
        "  b = LayerNormalization()(b)\n",
        "  b = Reshape((14,14,1024,))(b)\n",
        "  b = keras.layers.GlobalAveragePooling2D()(b)\n",
        "\n",
        "  d = keras.layers.GlobalAveragePooling2D()(d)\n",
        "  \n",
        "\n",
        "  b = Dense(3, activation=\"softmax\")(b) \n",
        "  b = Reshape((-1,3))(b) \n",
        "  a = Dense(3, activation=\"softmax\")(a) \n",
        "  a = Reshape((-1,3))(a) \n",
        "  d = Dense(3, activation=\"softmax\")(d) \n",
        "  d = Reshape((-1,3))(d) \n",
        "  \n",
        "  conc=Concatenate(axis=1)([a,b,d])\n",
        "  conc=keras.layers.GlobalAveragePooling1D()(conc)\n",
        "  mod=Model(inputs=mod.input,outputs=conc)\n",
        "  # mod.load_weights('../input/global-3535-fold-1-1/weights.hdf5')\n",
        "  # for layer in mod.layers:\n",
        "  #   layer.trainable=False\n",
        "  a=mod.layers[-9].output\n",
        "  b=mod.layers[-10].output\n",
        "  d=mod.layers[-11].output\n",
        "  b = Dense(1, activation=\"sigmoid\")(b) \n",
        "  b = Reshape((-1,1))(b) \n",
        "  a = Dense(1, activation=\"sigmoid\")(a) \n",
        "  a = Reshape((-1,1))(a) \n",
        "  d = Dense(1, activation=\"sigmoid\")(d) \n",
        "  d = Reshape((-1,1))(d) \n",
        "  conc=Concatenate(axis=1)([a,b,d])\n",
        "  conc=keras.layers.GlobalAveragePooling1D()(conc)\n",
        "  mod=Model(inputs=mod.input,outputs=conc)\n",
        "  return mod\n",
        "\n",
        "mod=load_model()"
      ],
      "execution_count": 36,
      "outputs": []
    },
    {
      "cell_type": "code",
      "metadata": {
        "id": "a4t7V-e99Eg-"
      },
      "source": [
        "\n",
        "\n",
        "from imgaug import augmenters as iaa\n",
        "def rotate_image(image, angle):\n",
        "  image_center = tuple(np.array(image.shape[1::-1]) / 2)\n",
        "  rot_mat = cv2.getRotationMatrix2D(image_center, angle, 1.0)\n",
        "  result = cv2.warpAffine(image, rot_mat, image.shape[1::-1], flags=cv2.INTER_LINEAR)\n",
        "  return result\n",
        "def Hflip( images):\n",
        "\t\tseq = iaa.Sequential([iaa.Fliplr(1.0)])\n",
        "\t\treturn seq.augment_images(images)\n",
        "def Vflip( images):\n",
        "\t\tseq = iaa.Sequential([iaa.Flipud(1.0)])\n",
        "\t\treturn seq.augment_images(images)\n",
        "def noise(images):\n",
        "    ls=[]\n",
        "    for i in images:\n",
        "        x = np.random.normal(loc=0, scale=0.05, size=(299,299,3))\n",
        "        ls.append(i+x)\n",
        "    return ls\n",
        "def rotate(images):\n",
        "    ls=[]\n",
        "    for angle in range(-15,20,5):\n",
        "        for image in images:\n",
        "            ls.append(rotate_image(image,angle))\n",
        "    return ls\n",
        "\n",
        "class DataGenerator(keras.utils.Sequence):\n",
        "  def __init__(self, images, labels, batch_size=64, image_dimensions = (96 ,96 ,3), shuffle=False, augment=False):\n",
        "    self.labels       = labels              # array of labels\n",
        "    self.images = images        # array of image paths\n",
        "    self.batch_size   = batch_size          # batch size\n",
        "    self.on_epoch_end()\n",
        "\n",
        "  def __len__(self):\n",
        "    return int(np.floor(self.labels.shape[0] / self.batch_size))\n",
        "\n",
        "  def on_epoch_end(self):\n",
        "    self.indexes = np.arange(self.labels.shape[0])\n",
        "\n",
        "  def __getitem__(self, index):\n",
        "\t\t# selects indices of data for next batch\n",
        "    indexes = self.indexes[index * self.batch_size : (index + 1) * self.batch_size]\n",
        "    # select data and load images\n",
        "    labels = self.labels[indexes]\n",
        "    img = [self.images[k].astype(np.float32) for k in indexes]\n",
        "    imgH=Hflip(img)\n",
        "    imgV=Vflip(img)\n",
        "    imgR=rotate(img)\n",
        "    images=[]\n",
        "    images.extend(imgH)\n",
        "    images.extend(imgV)\n",
        "    images.extend(imgR)\n",
        "    lbl=labels.copy()\n",
        "    labels=np.repeat(labels,9)\n",
        "    del([imgV,imgR,imgH,lbl])\n",
        "    gc.collect()\n",
        "    #images = np.array([preprocess_input(img) for img in images])\n",
        "    return np.asarray(images).astype('float16'), labels.astype('uint8')\n",
        "\n",
        "\n"
      ],
      "execution_count": 37,
      "outputs": []
    },
    {
      "cell_type": "code",
      "metadata": {
        "colab": {
          "base_uri": "https://localhost:8080/"
        },
        "id": "UulC6f8x9GyG",
        "outputId": "f905bd0b-ff6f-4ba7-c30f-99178dd5a2ee"
      },
      "source": [
        "import cv2\n",
        "import gc\n",
        "from tensorflow.keras.optimizers import *\n",
        "train_data = DataGenerator(X_train,y_train, batch_size=4, augment=True)\n",
        "mod.compile(optimizer=Adam(1e-5,decay=1e-6), loss='binary_crossentropy', metrics=['accuracy'])\n",
        "hist=mod.fit_generator(train_data,epochs=50)\n",
        "gc.collect()"
      ],
      "execution_count": 39,
      "outputs": [
        {
          "output_type": "stream",
          "text": [
            "/usr/local/lib/python3.7/dist-packages/tensorflow/python/keras/engine/training.py:1940: UserWarning: `Model.fit_generator` is deprecated and will be removed in a future version. Please use `Model.fit`, which supports generators.\n",
            "  warnings.warn('`Model.fit_generator` is deprecated and '\n"
          ],
          "name": "stderr"
        },
        {
          "output_type": "stream",
          "text": [
            "Epoch 1/50\n",
            "81/81 [==============================] - 56s 565ms/step - loss: 0.6666 - accuracy: 0.5826\n",
            "Epoch 2/50\n",
            "81/81 [==============================] - 47s 573ms/step - loss: 0.6499 - accuracy: 0.6163\n",
            "Epoch 3/50\n",
            "81/81 [==============================] - 47s 579ms/step - loss: 0.6177 - accuracy: 0.6639\n",
            "Epoch 4/50\n",
            "81/81 [==============================] - 48s 583ms/step - loss: 0.5679 - accuracy: 0.7085\n",
            "Epoch 5/50\n",
            "81/81 [==============================] - 48s 584ms/step - loss: 0.4732 - accuracy: 0.8193\n",
            "Epoch 6/50\n",
            "81/81 [==============================] - 48s 583ms/step - loss: 0.3576 - accuracy: 0.8872\n",
            "Epoch 7/50\n",
            "81/81 [==============================] - 48s 583ms/step - loss: 0.2736 - accuracy: 0.9455\n",
            "Epoch 8/50\n",
            "81/81 [==============================] - 48s 584ms/step - loss: 0.2135 - accuracy: 0.9859\n",
            "Epoch 9/50\n",
            "81/81 [==============================] - 48s 583ms/step - loss: 0.1923 - accuracy: 0.9935\n",
            "Epoch 10/50\n",
            "81/81 [==============================] - 48s 583ms/step - loss: 0.1863 - accuracy: 0.9949\n",
            "Epoch 11/50\n",
            "81/81 [==============================] - 48s 584ms/step - loss: 0.1828 - accuracy: 0.9955\n",
            "Epoch 12/50\n",
            "81/81 [==============================] - 47s 582ms/step - loss: 0.1796 - accuracy: 0.9962\n",
            "Epoch 13/50\n",
            "81/81 [==============================] - 47s 582ms/step - loss: 0.1772 - accuracy: 0.9966\n",
            "Epoch 14/50\n",
            "81/81 [==============================] - 48s 583ms/step - loss: 0.1751 - accuracy: 0.9966\n",
            "Epoch 15/50\n",
            "81/81 [==============================] - 48s 584ms/step - loss: 0.1724 - accuracy: 0.9969\n",
            "Epoch 16/50\n",
            "81/81 [==============================] - 48s 584ms/step - loss: 0.1690 - accuracy: 0.9976\n",
            "Epoch 17/50\n",
            "81/81 [==============================] - 48s 583ms/step - loss: 0.1662 - accuracy: 0.9976\n",
            "Epoch 18/50\n",
            "81/81 [==============================] - 48s 583ms/step - loss: 0.1632 - accuracy: 0.9976\n",
            "Epoch 19/50\n",
            "81/81 [==============================] - 48s 583ms/step - loss: 0.1599 - accuracy: 0.9976\n",
            "Epoch 20/50\n",
            "81/81 [==============================] - 48s 583ms/step - loss: 0.2122 - accuracy: 0.9667\n",
            "Epoch 21/50\n",
            "81/81 [==============================] - 47s 582ms/step - loss: 0.2300 - accuracy: 0.9530\n",
            "Epoch 22/50\n",
            "81/81 [==============================] - 48s 583ms/step - loss: 0.2017 - accuracy: 0.9719\n",
            "Epoch 23/50\n",
            "81/81 [==============================] - 48s 584ms/step - loss: 0.1790 - accuracy: 0.9863\n",
            "Epoch 24/50\n",
            "81/81 [==============================] - 48s 583ms/step - loss: 0.1663 - accuracy: 0.9925\n",
            "Epoch 25/50\n",
            "81/81 [==============================] - 48s 583ms/step - loss: 0.1601 - accuracy: 0.9942\n",
            "Epoch 26/50\n",
            "81/81 [==============================] - 47s 583ms/step - loss: 0.1542 - accuracy: 0.9966\n",
            "Epoch 27/50\n",
            "81/81 [==============================] - 48s 583ms/step - loss: 0.1533 - accuracy: 0.9955\n",
            "Epoch 28/50\n",
            "81/81 [==============================] - 47s 582ms/step - loss: 0.1457 - accuracy: 0.9983\n",
            "Epoch 29/50\n",
            "81/81 [==============================] - 47s 582ms/step - loss: 0.1430 - accuracy: 0.9983\n",
            "Epoch 30/50\n",
            "81/81 [==============================] - 48s 583ms/step - loss: 0.1399 - accuracy: 0.9983\n",
            "Epoch 31/50\n",
            "81/81 [==============================] - 48s 583ms/step - loss: 0.1381 - accuracy: 0.9983\n",
            "Epoch 32/50\n",
            "81/81 [==============================] - 48s 583ms/step - loss: 0.1330 - accuracy: 0.9993\n",
            "Epoch 33/50\n",
            "81/81 [==============================] - 48s 583ms/step - loss: 0.1288 - accuracy: 0.9993\n",
            "Epoch 34/50\n",
            "81/81 [==============================] - 48s 583ms/step - loss: 0.1248 - accuracy: 0.9993\n",
            "Epoch 35/50\n",
            "81/81 [==============================] - 48s 583ms/step - loss: 0.1208 - accuracy: 0.9993\n",
            "Epoch 36/50\n",
            "81/81 [==============================] - 47s 583ms/step - loss: 0.1167 - accuracy: 0.9993\n",
            "Epoch 37/50\n",
            "81/81 [==============================] - 48s 584ms/step - loss: 0.1123 - accuracy: 0.9993\n",
            "Epoch 38/50\n",
            "81/81 [==============================] - 48s 583ms/step - loss: 0.1078 - accuracy: 0.9993\n",
            "Epoch 39/50\n",
            "81/81 [==============================] - 48s 583ms/step - loss: 0.1032 - accuracy: 0.9993\n",
            "Epoch 40/50\n",
            "81/81 [==============================] - 48s 584ms/step - loss: 0.0983 - accuracy: 0.9993\n",
            "Epoch 41/50\n",
            "81/81 [==============================] - 48s 583ms/step - loss: 0.0942 - accuracy: 0.9990\n",
            "Epoch 42/50\n",
            "81/81 [==============================] - 47s 582ms/step - loss: 0.1218 - accuracy: 0.9842\n",
            "Epoch 43/50\n",
            "81/81 [==============================] - 47s 582ms/step - loss: 0.1140 - accuracy: 0.9883\n",
            "Epoch 44/50\n",
            "81/81 [==============================] - 47s 582ms/step - loss: 0.1001 - accuracy: 0.9938\n",
            "Epoch 45/50\n",
            "81/81 [==============================] - 48s 584ms/step - loss: 0.0870 - accuracy: 0.9976\n",
            "Epoch 46/50\n",
            "81/81 [==============================] - 47s 582ms/step - loss: 0.0793 - accuracy: 0.9997\n",
            "Epoch 47/50\n",
            "81/81 [==============================] - 47s 582ms/step - loss: 0.0736 - accuracy: 1.0000\n",
            "Epoch 48/50\n",
            "81/81 [==============================] - 48s 583ms/step - loss: 0.0682 - accuracy: 1.0000\n",
            "Epoch 49/50\n",
            "81/81 [==============================] - 48s 584ms/step - loss: 0.0633 - accuracy: 1.0000\n",
            "Epoch 50/50\n",
            "81/81 [==============================] - 48s 584ms/step - loss: 0.0588 - accuracy: 1.0000\n"
          ],
          "name": "stdout"
        },
        {
          "output_type": "execute_result",
          "data": {
            "text/plain": [
              "0"
            ]
          },
          "metadata": {
            "tags": []
          },
          "execution_count": 39
        }
      ]
    },
    {
      "cell_type": "code",
      "metadata": {
        "colab": {
          "base_uri": "https://localhost:8080/",
          "height": 283
        },
        "id": "PD0ya6rDBGjB",
        "outputId": "4c18b5ba-9e7e-4324-afae-64bf77489cc0"
      },
      "source": [
        "from matplotlib import pyplot as plt\n",
        "plt.plot(hist.history['loss'])"
      ],
      "execution_count": 43,
      "outputs": [
        {
          "output_type": "execute_result",
          "data": {
            "text/plain": [
              "[<matplotlib.lines.Line2D at 0x7fcb2d2f0ed0>]"
            ]
          },
          "metadata": {
            "tags": []
          },
          "execution_count": 43
        },
        {
          "output_type": "display_data",
          "data": {
            "image/png": "[encoded data removed]",
            "text/plain": [
              "<Figure size 432x288 with 1 Axes>"
            ]
          },
          "metadata": {
            "tags": [],
            "needs_background": "light"
          }
        }
      ]
    },
    {
      "cell_type": "code",
      "metadata": {
        "colab": {
          "base_uri": "https://localhost:8080/"
        },
        "id": "P1MYbBZvaZBI",
        "outputId": "a3687fda-58d0-462c-a1d1-b4a446eb5981"
      },
      "source": [
        "pre=mod.predict(X_test)\n",
        "from sklearn.metrics import accuracy_score\n",
        "accuracy_score(np.round(pre),y_test)"
      ],
      "execution_count": 44,
      "outputs": [
        {
          "output_type": "execute_result",
          "data": {
            "text/plain": [
              "0.5341614906832298"
            ]
          },
          "metadata": {
            "tags": []
          },
          "execution_count": 44
        }
      ]
    },
    {
      "cell_type": "code",
      "metadata": {
        "id": "h6iKXL47apzO"
      },
      "source": [
        ""
      ],
      "execution_count": null,
      "outputs": []
    }
  ]
}