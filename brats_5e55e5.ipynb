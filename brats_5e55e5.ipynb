{
  "nbformat": 4,
  "nbformat_minor": 0,
  "metadata": {
    "colab": {
      "name": "brats_5e55e5.ipynb",
      "provenance": [],
      "authorship_tag": "ABX9TyNgAKgd+3TreKHMvg4a34zU",
      "include_colab_link": true
    },
    "kernelspec": {
      "name": "python3",
      "display_name": "Python 3"
    },
    "language_info": {
      "name": "python"
    },
    "accelerator": "GPU"
  },
  "cells": [
    {
      "cell_type": "markdown",
      "metadata": {
        "id": "view-in-github",
        "colab_type": "text"
      },
      "source": [
        "<a href=\"https://colab.research.google.com/github/greyhound101/brats/blob/main/brats_5e55e5.ipynb\" target=\"_parent\"><img src=\"https://colab.research.google.com/assets/colab-badge.svg\" alt=\"Open In Colab\"/></a>"
      ]
    },
    {
      "cell_type": "code",
      "metadata": {
        "colab": {
          "base_uri": "https://localhost:8080/"
        },
        "id": "SDLj6hx8JiW8",
        "outputId": "68a11157-167a-410c-8b8f-e7f120bf81c8"
      },
      "source": [
        "from google.colab import drive\n",
        "drive.mount('/content/gdrive')\n",
        "drive.mount(\"/content/gdrive\", force_remount=True)"
      ],
      "execution_count": 1,
      "outputs": [
        {
          "output_type": "stream",
          "text": [
            "Drive already mounted at /content/gdrive; to attempt to forcibly remount, call drive.mount(\"/content/gdrive\", force_remount=True).\n",
            "Mounted at /content/gdrive\n"
          ],
          "name": "stdout"
        }
      ]
    },
    {
      "cell_type": "code",
      "metadata": {
        "colab": {
          "base_uri": "https://localhost:8080/"
        },
        "id": "bwTRIFIpJz9n",
        "outputId": "574bd833-c7b3-438d-8c86-1c538a4995fc"
      },
      "source": [
        "pip install medpy"
      ],
      "execution_count": 2,
      "outputs": [
        {
          "output_type": "stream",
          "text": [
            "Requirement already satisfied: medpy in /usr/local/lib/python3.7/dist-packages (0.4.0)\n",
            "Requirement already satisfied: numpy>=1.11.0 in /usr/local/lib/python3.7/dist-packages (from medpy) (1.19.5)\n",
            "Requirement already satisfied: scipy>=1.1.0 in /usr/local/lib/python3.7/dist-packages (from medpy) (1.4.1)\n",
            "Requirement already satisfied: SimpleITK>=1.1.0 in /usr/local/lib/python3.7/dist-packages (from medpy) (2.0.2)\n"
          ],
          "name": "stdout"
        }
      ]
    },
    {
      "cell_type": "code",
      "metadata": {
        "id": "HUojJrcwKEGD"
      },
      "source": [
        "import numpy as np\n",
        "images=np.load('/content/gdrive/MyDrive/Brats2d/images.npy')\n",
        "targets=np.load('/content/gdrive/MyDrive/Brats2d/targets.npy')"
      ],
      "execution_count": 3,
      "outputs": []
    },
    {
      "cell_type": "code",
      "metadata": {
        "id": "XCDYvIoQKO3y"
      },
      "source": [
        "from sklearn.model_selection import train_test_split\n",
        "X_train, X_test, y_train, y_test = train_test_split(images,targets, test_size=0.33, random_state=42)"
      ],
      "execution_count": 4,
      "outputs": []
    },
    {
      "cell_type": "code",
      "metadata": {
        "id": "eeH3ARCWKPnE"
      },
      "source": [
        "from tensorflow.keras.layers import *\n",
        "import tensorflow as tf\n",
        "import random, os, sys\n",
        "import numpy as np\n",
        "from tensorflow.keras.models import *\n",
        "from tensorflow.keras.layers import *\n",
        "from tensorflow.keras.callbacks import *\n",
        "from tensorflow.keras.initializers import *\n",
        "import tensorflow as tf\n",
        "from tensorflow.keras.applications import *\n",
        "from tensorflow.keras.layers import *\n",
        "from tensorflow.keras import backend as K\n",
        "from tensorflow.keras.models import Model\n",
        "from tensorflow import keras\n",
        "from tensorflow.keras import backend as K\n",
        "class LayerNormalization(Layer):\n",
        "    def __init__(self, eps=1e-6, **kwargs):\n",
        "        self.eps = eps\n",
        "        super(LayerNormalization, self).__init__(**kwargs)\n",
        "    def build(self, input_shape):\n",
        "        self.gamma = self.add_weight(name='gamma', shape=input_shape[-1:],\n",
        "                                     initializer=Ones(), trainable=True)\n",
        "        self.beta = self.add_weight(name='beta', shape=input_shape[-1:],\n",
        "                                    initializer=Zeros(), trainable=True)\n",
        "        super(LayerNormalization, self).build(input_shape)\n",
        "    def call(self, x):\n",
        "        mean = K.mean(x, axis=-1, keepdims=True)\n",
        "        std = K.std(x, axis=-1, keepdims=True)\n",
        "        return self.gamma * (x - mean) / (std + self.eps) + self.beta\n",
        "    def compute_output_shape(self, input_shape):\n",
        "        return input_shape\n",
        "class abc(keras.layers.Layer):\n",
        "    def __init__(self,\n",
        "                 hidden_dim,\n",
        "                 **kwargs):\n",
        "        self.hidden_dim = hidden_dim\n",
        "        \n",
        "        self.conv1=Conv1D(self.hidden_dim,1)\n",
        "        self.conv2=Conv1D(self.hidden_dim,1)\n",
        "        self.conv3=Conv1D(self.hidden_dim,1)\n",
        "        \n",
        "        self.Wq = self.Wk = self.Wv = self.Wo = None\n",
        "        self.bq = self.bk = self.bv = self.bo = None\n",
        "\n",
        "        self.intensity = self.attention = None\n",
        "        super(abc, self).__init__(**kwargs)\n",
        "\n",
        "    def call(self, inputs, mask=None):\n",
        "        \n",
        "        q, k, v = inputs\n",
        "        \n",
        "        q=self.conv1(q)\n",
        "        k=self.conv2(k)\n",
        "        v=self.conv3(v)\n",
        "        \n",
        "        \n",
        "        def scaled_dot_product_attention(inputs):\n",
        "          query, key, value = inputs\n",
        "          feature_dim = K.shape(query)[-1]\n",
        "          e = K.batch_dot(query, key, axes=2) \n",
        "          intensity = e\n",
        "          e = K.exp(e - K.max(e, axis=-1, keepdims=True))\n",
        "          attention = e / K.sum(e, axis=-1, keepdims=True)\n",
        "          v = K.batch_dot(attention, value)\n",
        "          return v\n",
        "       \n",
        "       \n",
        "        y = scaled_dot_product_attention(inputs=[q,k,v])\n",
        "        \n",
        "        \n",
        "        return y\n",
        "\n",
        "from tensorflow import keras \n",
        "from tensorflow.keras.regularizers import l2\n",
        "from tensorflow.keras.layers import *\n",
        "from tensorflow.keras.applications import *\n",
        "def load_model():   \n",
        "  \n",
        "  K.clear_session() \n",
        "  mod=densenet.DenseNet121(include_top=True, weights='imagenet')\n",
        "  d = mod.get_layer('conv5_block16_concat').output\n",
        "\n",
        "  inp = mod.get_layer('conv3_block12_concat').output\n",
        "  a = Reshape((28*28,512))(inp)\n",
        "  d_a = keras.layers.UpSampling2D(interpolation='bilinear',size=(4,4))(d)\n",
        "  d_a = Reshape((28*28,1024))(d_a)\n",
        "  a = abc(hidden_dim=512)([a,d_a,a])\n",
        "  a = LayerNormalization()(a)\n",
        "  a = Reshape((28,28,512,))(a)\n",
        "  a = keras.layers.GlobalAveragePooling2D()(a)\n",
        "\n",
        "  inp = mod.get_layer('conv4_block24_concat').output\n",
        "  b = Reshape((14*14,1024))(inp)\n",
        "  d_b = keras.layers.UpSampling2D(interpolation='bilinear',size=(2,2))(d)\n",
        "  d_b = Reshape((14*14,1024))(d_b)\n",
        "  b = abc(hidden_dim=1024)([b,d_b,b])\n",
        "  b = LayerNormalization()(b)\n",
        "  b = Reshape((14,14,1024,))(b)\n",
        "  b = keras.layers.GlobalAveragePooling2D()(b)\n",
        "\n",
        "  d = keras.layers.GlobalAveragePooling2D()(d)\n",
        "  \n",
        "\n",
        "  b = Dense(3, activation=\"softmax\")(b) \n",
        "  b = Reshape((-1,3))(b) \n",
        "  a = Dense(3, activation=\"softmax\")(a) \n",
        "  a = Reshape((-1,3))(a) \n",
        "  d = Dense(3, activation=\"softmax\")(d) \n",
        "  d = Reshape((-1,3))(d) \n",
        "  \n",
        "  conc=Concatenate(axis=1)([a,b,d])\n",
        "  conc=keras.layers.GlobalAveragePooling1D()(conc)\n",
        "  mod=Model(inputs=mod.input,outputs=conc)\n",
        "#   mod.load_weights('../input/global-3535-fold-1-1/weights.hdf5')\n",
        "#   for layer in mod.layers:\n",
        "#     layer.trainable=False\n",
        "  a=mod.layers[-9].output\n",
        "  b=mod.layers[-10].output\n",
        "  d=mod.layers[-11].output\n",
        "  b = Dense(1, activation=\"sigmoid\")(b) \n",
        "  b = Reshape((-1,1))(b) \n",
        "  a = Dense(1, activation=\"sigmoid\")(a) \n",
        "  a = Reshape((-1,1))(a) \n",
        "  d = Dense(1, activation=\"sigmoid\")(d) \n",
        "  d = Reshape((-1,1))(d) \n",
        "  conc=Concatenate(axis=1)([a,b,d])\n",
        "  conc=keras.layers.GlobalAveragePooling1D()(conc)\n",
        "  mod=Model(inputs=mod.input,outputs=conc)\n",
        "  return mod\n",
        "\n",
        "mod=load_model()"
      ],
      "execution_count": 5,
      "outputs": []
    },
    {
      "cell_type": "code",
      "metadata": {
        "id": "-GgoqB0vKQQi"
      },
      "source": [
        "\n",
        "\n",
        "from imgaug import augmenters as iaa\n",
        "def rotate_image(image, angle):\n",
        "  image_center = tuple(np.array(image.shape[1::-1]) / 2)\n",
        "  rot_mat = cv2.getRotationMatrix2D(image_center, angle, 1.0)\n",
        "  result = cv2.warpAffine(image, rot_mat, image.shape[1::-1], flags=cv2.INTER_LINEAR)\n",
        "  return result\n",
        "def Hflip( images):\n",
        "\t\tseq = iaa.Sequential([iaa.Fliplr(1.0)])\n",
        "\t\treturn seq.augment_images(images)\n",
        "def Vflip( images):\n",
        "\t\tseq = iaa.Sequential([iaa.Flipud(1.0)])\n",
        "\t\treturn seq.augment_images(images)\n",
        "def noise(images):\n",
        "    ls=[]\n",
        "    for i in images:\n",
        "        x = np.random.normal(loc=0, scale=0.05, size=(299,299,3))\n",
        "        ls.append(i+x)\n",
        "    return ls\n",
        "def rotate(images):\n",
        "    ls=[]\n",
        "    for angle in range(-15,20,5):\n",
        "        for image in images:\n",
        "            ls.append(rotate_image(image,angle))\n",
        "    return ls\n",
        "\n",
        "class DataGenerator(keras.utils.Sequence):\n",
        "  def __init__(self, images, labels, batch_size=64, image_dimensions = (96 ,96 ,3), shuffle=False, augment=False):\n",
        "    self.labels       = labels              # array of labels\n",
        "    self.images = images        # array of image paths\n",
        "    self.batch_size   = batch_size          # batch size\n",
        "    self.on_epoch_end()\n",
        "\n",
        "  def __len__(self):\n",
        "    return int(np.floor(self.labels.shape[0] / self.batch_size))\n",
        "\n",
        "  def on_epoch_end(self):\n",
        "    self.indexes = np.arange(self.labels.shape[0])\n",
        "\n",
        "  def __getitem__(self, index):\n",
        "\t\t# selects indices of data for next batch\n",
        "    indexes = self.indexes[index * self.batch_size : (index + 1) * self.batch_size]\n",
        "    # select data and load images\n",
        "    labels = self.labels[indexes]\n",
        "    img = [self.images[k].astype(np.float32) for k in indexes]\n",
        "    imgH=Hflip(img)\n",
        "    imgV=Vflip(img)\n",
        "    imgR=rotate(img)\n",
        "    images=[]\n",
        "    images.extend(imgH)\n",
        "    images.extend(imgV)\n",
        "    images.extend(imgR)\n",
        "    lbl=labels.copy()\n",
        "    labels=np.repeat(labels,9)\n",
        "    del([imgV,imgR,imgH,lbl])\n",
        "    gc.collect()\n",
        "    #images = np.array([preprocess_input(img) for img in images])\n",
        "    return np.asarray(images).astype('float16'), labels.astype('uint8')\n",
        "\n",
        "\n"
      ],
      "execution_count": 6,
      "outputs": []
    },
    {
      "cell_type": "code",
      "metadata": {
        "colab": {
          "base_uri": "https://localhost:8080/"
        },
        "id": "dzKs9dCrKRHC",
        "outputId": "60b7b89c-c5c1-4700-b34b-7bcb84adcba5"
      },
      "source": [
        "import cv2\n",
        "import gc\n",
        "from tensorflow.keras.optimizers import *\n",
        "train_data = DataGenerator(X_train,y_train, batch_size=4, augment=True)\n",
        "mod.compile(optimizer=Adam(5e-5,decay=5e-5), loss='binary_crossentropy', metrics=['accuracy'])\n",
        "hist=mod.fit_generator(train_data,epochs=50)\n",
        "gc.collect()"
      ],
      "execution_count": 7,
      "outputs": [
        {
          "output_type": "stream",
          "text": [
            "/usr/local/lib/python3.7/dist-packages/tensorflow/python/keras/engine/training.py:1940: UserWarning: `Model.fit_generator` is deprecated and will be removed in a future version. Please use `Model.fit`, which supports generators.\n",
            "  warnings.warn('`Model.fit_generator` is deprecated and '\n"
          ],
          "name": "stderr"
        },
        {
          "output_type": "stream",
          "text": [
            "Epoch 1/50\n",
            "81/81 [==============================] - 123s 1s/step - loss: 0.7054 - accuracy: 0.4955\n",
            "Epoch 2/50\n",
            "81/81 [==============================] - 102s 1s/step - loss: 0.6935 - accuracy: 0.5357\n",
            "Epoch 3/50\n",
            "81/81 [==============================] - 102s 1s/step - loss: 0.6890 - accuracy: 0.5624\n",
            "Epoch 4/50\n",
            "81/81 [==============================] - 102s 1s/step - loss: 0.6852 - accuracy: 0.5617\n",
            "Epoch 5/50\n",
            "81/81 [==============================] - 102s 1s/step - loss: 0.6725 - accuracy: 0.5971\n",
            "Epoch 6/50\n",
            "81/81 [==============================] - 102s 1s/step - loss: 0.6572 - accuracy: 0.6152\n",
            "Epoch 7/50\n",
            "81/81 [==============================] - 102s 1s/step - loss: 0.6341 - accuracy: 0.6770\n",
            "Epoch 8/50\n",
            "81/81 [==============================] - 102s 1s/step - loss: 0.6059 - accuracy: 0.7143\n",
            "Epoch 9/50\n",
            "81/81 [==============================] - 102s 1s/step - loss: 0.5738 - accuracy: 0.7644\n",
            "Epoch 10/50\n",
            "81/81 [==============================] - 102s 1s/step - loss: 0.5432 - accuracy: 0.8152\n",
            "Epoch 11/50\n",
            "81/81 [==============================] - 102s 1s/step - loss: 0.5236 - accuracy: 0.8412\n",
            "Epoch 12/50\n",
            "81/81 [==============================] - 102s 1s/step - loss: 0.4972 - accuracy: 0.8762\n",
            "Epoch 13/50\n",
            "81/81 [==============================] - 101s 1s/step - loss: 0.4620 - accuracy: 0.9040\n",
            "Epoch 14/50\n",
            "81/81 [==============================] - 101s 1s/step - loss: 0.4480 - accuracy: 0.8508\n",
            "Epoch 15/50\n",
            "81/81 [==============================] - 101s 1s/step - loss: 0.4228 - accuracy: 0.8505\n",
            "Epoch 16/50\n",
            "81/81 [==============================] - 101s 1s/step - loss: 0.3819 - accuracy: 0.8721\n",
            "Epoch 17/50\n",
            "81/81 [==============================] - 101s 1s/step - loss: 0.3139 - accuracy: 0.9232\n",
            "Epoch 18/50\n",
            "81/81 [==============================] - 101s 1s/step - loss: 0.2622 - accuracy: 0.9287\n",
            "Epoch 19/50\n",
            "81/81 [==============================] - 101s 1s/step - loss: 0.2235 - accuracy: 0.9132\n",
            "Epoch 20/50\n",
            "81/81 [==============================] - 101s 1s/step - loss: 0.1557 - accuracy: 0.9455\n",
            "Epoch 21/50\n",
            "81/81 [==============================] - 101s 1s/step - loss: 0.1351 - accuracy: 0.9520\n",
            "Epoch 22/50\n",
            "81/81 [==============================] - 101s 1s/step - loss: 0.1045 - accuracy: 0.9650\n",
            "Epoch 23/50\n",
            "81/81 [==============================] - 101s 1s/step - loss: 0.0921 - accuracy: 0.9681\n",
            "Epoch 24/50\n",
            "81/81 [==============================] - 101s 1s/step - loss: 0.0659 - accuracy: 0.9743\n",
            "Epoch 25/50\n",
            "81/81 [==============================] - 101s 1s/step - loss: 0.0450 - accuracy: 0.9839\n",
            "Epoch 26/50\n",
            "81/81 [==============================] - 101s 1s/step - loss: 0.0390 - accuracy: 0.9842\n",
            "Epoch 27/50\n",
            "81/81 [==============================] - 101s 1s/step - loss: 0.0305 - accuracy: 0.9883\n",
            "Epoch 28/50\n",
            "81/81 [==============================] - 101s 1s/step - loss: 0.0323 - accuracy: 0.9894\n",
            "Epoch 29/50\n",
            "81/81 [==============================] - 101s 1s/step - loss: 0.0470 - accuracy: 0.9849\n",
            "Epoch 30/50\n",
            "81/81 [==============================] - 101s 1s/step - loss: 0.0300 - accuracy: 0.9890\n",
            "Epoch 31/50\n",
            "81/81 [==============================] - 101s 1s/step - loss: 0.0248 - accuracy: 0.9925\n",
            "Epoch 32/50\n",
            "81/81 [==============================] - 101s 1s/step - loss: 0.0143 - accuracy: 0.9942\n",
            "Epoch 33/50\n",
            "81/81 [==============================] - 101s 1s/step - loss: 0.0124 - accuracy: 0.9949\n",
            "Epoch 34/50\n",
            "81/81 [==============================] - 101s 1s/step - loss: 0.0117 - accuracy: 0.9949\n",
            "Epoch 35/50\n",
            "81/81 [==============================] - 101s 1s/step - loss: 0.0112 - accuracy: 0.9949\n",
            "Epoch 36/50\n",
            "81/81 [==============================] - 101s 1s/step - loss: 0.0110 - accuracy: 0.9949\n",
            "Epoch 37/50\n",
            "81/81 [==============================] - 101s 1s/step - loss: 0.0106 - accuracy: 0.9949\n",
            "Epoch 38/50\n",
            "81/81 [==============================] - 101s 1s/step - loss: 0.0105 - accuracy: 0.9949\n",
            "Epoch 39/50\n",
            "81/81 [==============================] - 101s 1s/step - loss: 0.0103 - accuracy: 0.9949\n",
            "Epoch 40/50\n",
            "81/81 [==============================] - 101s 1s/step - loss: 0.0102 - accuracy: 0.9949\n",
            "Epoch 41/50\n",
            "81/81 [==============================] - 101s 1s/step - loss: 0.0101 - accuracy: 0.9949\n",
            "Epoch 42/50\n",
            "81/81 [==============================] - 101s 1s/step - loss: 0.0100 - accuracy: 0.9949\n",
            "Epoch 43/50\n",
            "81/81 [==============================] - 101s 1s/step - loss: 0.0099 - accuracy: 0.9949\n",
            "Epoch 44/50\n",
            "81/81 [==============================] - 101s 1s/step - loss: 0.0098 - accuracy: 0.9949\n",
            "Epoch 45/50\n",
            "81/81 [==============================] - 100s 1s/step - loss: 0.0098 - accuracy: 0.9949\n",
            "Epoch 46/50\n",
            "81/81 [==============================] - 101s 1s/step - loss: 0.0097 - accuracy: 0.9949\n",
            "Epoch 47/50\n",
            "81/81 [==============================] - 101s 1s/step - loss: 0.0097 - accuracy: 0.9949\n",
            "Epoch 48/50\n",
            "81/81 [==============================] - 101s 1s/step - loss: 0.0096 - accuracy: 0.9949\n",
            "Epoch 49/50\n",
            "81/81 [==============================] - 101s 1s/step - loss: 0.0096 - accuracy: 0.9949\n",
            "Epoch 50/50\n",
            "81/81 [==============================] - 101s 1s/step - loss: 0.0096 - accuracy: 0.9949\n"
          ],
          "name": "stdout"
        },
        {
          "output_type": "execute_result",
          "data": {
            "text/plain": [
              "0"
            ]
          },
          "metadata": {
            "tags": []
          },
          "execution_count": 7
        }
      ]
    },
    {
      "cell_type": "code",
      "metadata": {
        "id": "D9tDZelyURRK",
        "colab": {
          "base_uri": "https://localhost:8080/",
          "height": 283
        },
        "outputId": "0b9b9c65-ac75-449d-ad2c-1dfb97a18645"
      },
      "source": [
        "from matplotlib import pyplot as plt\n",
        "plt.plot(hist.history['loss'])"
      ],
      "execution_count": 8,
      "outputs": [
        {
          "output_type": "execute_result",
          "data": {
            "text/plain": [
              "[<matplotlib.lines.Line2D at 0x7f717b43ad90>]"
            ]
          },
          "metadata": {
            "tags": []
          },
          "execution_count": 8
        },
        {
          "output_type": "display_data",
          "data": {
            "image/png": "[encoded data removed]",
            "text/plain": [
              "<Figure size 432x288 with 1 Axes>"
            ]
          },
          "metadata": {
            "tags": [],
            "needs_background": "light"
          }
        }
      ]
    },
    {
      "cell_type": "code",
      "metadata": {
        "id": "taiQ3LaqUROC",
        "colab": {
          "base_uri": "https://localhost:8080/"
        },
        "outputId": "5f46598c-07c2-4150-b390-82214f1c27c6"
      },
      "source": [
        "pre=mod.predict(X_test)\n",
        "from sklearn.metrics import accuracy_score\n",
        "accuracy_score(np.round(pre),y_test)"
      ],
      "execution_count": 9,
      "outputs": [
        {
          "output_type": "execute_result",
          "data": {
            "text/plain": [
              "0.5527950310559007"
            ]
          },
          "metadata": {
            "tags": []
          },
          "execution_count": 9
        }
      ]
    },
    {
      "cell_type": "code",
      "metadata": {
        "id": "yohuhe8LURLL"
      },
      "source": [
        ""
      ],
      "execution_count": 9,
      "outputs": []
    },
    {
      "cell_type": "code",
      "metadata": {
        "id": "TOj1YXgjURIK"
      },
      "source": [
        ""
      ],
      "execution_count": 9,
      "outputs": []
    },
    {
      "cell_type": "code",
      "metadata": {
        "id": "WZPlK00fURFa"
      },
      "source": [
        ""
      ],
      "execution_count": 9,
      "outputs": []
    },
    {
      "cell_type": "code",
      "metadata": {
        "id": "y1LGxDw5URDE"
      },
      "source": [
        ""
      ],
      "execution_count": 9,
      "outputs": []
    },
    {
      "cell_type": "code",
      "metadata": {
        "id": "8LBoWIJgKXrq"
      },
      "source": [
        ""
      ],
      "execution_count": 9,
      "outputs": []
    }
  ]
}