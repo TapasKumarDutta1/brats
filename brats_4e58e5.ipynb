{
  "nbformat": 4,
  "nbformat_minor": 0,
  "metadata": {
    "colab": {
      "name": "brats_4e58e5.ipynb",
      "provenance": [],
      "authorship_tag": "ABX9TyMndBMnAZc4FAN/7a3aDI1G",
      "include_colab_link": true
    },
    "kernelspec": {
      "name": "python3",
      "display_name": "Python 3"
    },
    "language_info": {
      "name": "python"
    },
    "accelerator": "GPU"
  },
  "cells": [
    {
      "cell_type": "markdown",
      "metadata": {
        "id": "view-in-github",
        "colab_type": "text"
      },
      "source": [
        "<a href=\"https://colab.research.google.com/github/greyhound101/brats/blob/main/brats_4e58e5.ipynb\" target=\"_parent\"><img src=\"https://colab.research.google.com/assets/colab-badge.svg\" alt=\"Open In Colab\"/></a>"
      ]
    },
    {
      "cell_type": "code",
      "metadata": {
        "colab": {
          "base_uri": "https://localhost:8080/"
        },
        "id": "m_HObXxmRSmq",
        "outputId": "21b0fd8b-f0a9-439b-fe40-e9ec8bb857cb"
      },
      "source": [
        "from google.colab import drive\n",
        "drive.mount('/content/gdrive')\n",
        "drive.mount(\"/content/gdrive\", force_remount=True)"
      ],
      "execution_count": 1,
      "outputs": [
        {
          "output_type": "stream",
          "text": [
            "Drive already mounted at /content/gdrive; to attempt to forcibly remount, call drive.mount(\"/content/gdrive\", force_remount=True).\n",
            "Mounted at /content/gdrive\n"
          ],
          "name": "stdout"
        }
      ]
    },
    {
      "cell_type": "code",
      "metadata": {
        "colab": {
          "base_uri": "https://localhost:8080/"
        },
        "id": "hSmd13EIRXh4",
        "outputId": "467db2e2-7fa2-4684-c5cc-6da7567c3d8c"
      },
      "source": [
        "pip install medpy"
      ],
      "execution_count": 2,
      "outputs": [
        {
          "output_type": "stream",
          "text": [
            "Requirement already satisfied: medpy in /usr/local/lib/python3.7/dist-packages (0.4.0)\n",
            "Requirement already satisfied: scipy>=1.1.0 in /usr/local/lib/python3.7/dist-packages (from medpy) (1.4.1)\n",
            "Requirement already satisfied: SimpleITK>=1.1.0 in /usr/local/lib/python3.7/dist-packages (from medpy) (2.0.2)\n",
            "Requirement already satisfied: numpy>=1.11.0 in /usr/local/lib/python3.7/dist-packages (from medpy) (1.19.5)\n"
          ],
          "name": "stdout"
        }
      ]
    },
    {
      "cell_type": "code",
      "metadata": {
        "id": "XdvyM_dkRYbG"
      },
      "source": [
        "import numpy as np\n",
        "images=np.load('/content/gdrive/MyDrive/Brats2d/images.npy')\n",
        "targets=np.load('/content/gdrive/MyDrive/Brats2d/targets.npy')"
      ],
      "execution_count": 3,
      "outputs": []
    },
    {
      "cell_type": "code",
      "metadata": {
        "id": "mEULO0HKRZWu"
      },
      "source": [
        "from sklearn.model_selection import train_test_split\n",
        "X_train, X_test, y_train, y_test = train_test_split(images,targets, test_size=0.33, random_state=42)"
      ],
      "execution_count": 4,
      "outputs": []
    },
    {
      "cell_type": "code",
      "metadata": {
        "id": "gT30jk3sRaLZ"
      },
      "source": [
        "from tensorflow.keras.layers import *\n",
        "import tensorflow as tf\n",
        "import random, os, sys\n",
        "import numpy as np\n",
        "from tensorflow.keras.models import *\n",
        "from tensorflow.keras.layers import *\n",
        "from tensorflow.keras.callbacks import *\n",
        "from tensorflow.keras.initializers import *\n",
        "import tensorflow as tf\n",
        "from tensorflow.keras.applications import *\n",
        "from tensorflow.keras.layers import *\n",
        "from tensorflow.keras import backend as K\n",
        "from tensorflow.keras.models import Model\n",
        "from tensorflow import keras\n",
        "from tensorflow.keras import backend as K\n",
        "class LayerNormalization(Layer):\n",
        "    def __init__(self, eps=1e-6, **kwargs):\n",
        "        self.eps = eps\n",
        "        super(LayerNormalization, self).__init__(**kwargs)\n",
        "    def build(self, input_shape):\n",
        "        self.gamma = self.add_weight(name='gamma', shape=input_shape[-1:],\n",
        "                                     initializer=Ones(), trainable=True)\n",
        "        self.beta = self.add_weight(name='beta', shape=input_shape[-1:],\n",
        "                                    initializer=Zeros(), trainable=True)\n",
        "        super(LayerNormalization, self).build(input_shape)\n",
        "    def call(self, x):\n",
        "        mean = K.mean(x, axis=-1, keepdims=True)\n",
        "        std = K.std(x, axis=-1, keepdims=True)\n",
        "        return self.gamma * (x - mean) / (std + self.eps) + self.beta\n",
        "    def compute_output_shape(self, input_shape):\n",
        "        return input_shape\n",
        "class abc(keras.layers.Layer):\n",
        "    def __init__(self,\n",
        "                 hidden_dim,\n",
        "                 **kwargs):\n",
        "        self.hidden_dim = hidden_dim\n",
        "        \n",
        "        self.conv1=Conv1D(self.hidden_dim,1)\n",
        "        self.conv2=Conv1D(self.hidden_dim,1)\n",
        "        self.conv3=Conv1D(self.hidden_dim,1)\n",
        "        \n",
        "        self.Wq = self.Wk = self.Wv = self.Wo = None\n",
        "        self.bq = self.bk = self.bv = self.bo = None\n",
        "\n",
        "        self.intensity = self.attention = None\n",
        "        super(abc, self).__init__(**kwargs)\n",
        "\n",
        "    def call(self, inputs, mask=None):\n",
        "        \n",
        "        q, k, v = inputs\n",
        "        \n",
        "        q=self.conv1(q)\n",
        "        k=self.conv2(k)\n",
        "        v=self.conv3(v)\n",
        "        \n",
        "        \n",
        "        def scaled_dot_product_attention(inputs):\n",
        "          query, key, value = inputs\n",
        "          feature_dim = K.shape(query)[-1]\n",
        "          e = K.batch_dot(query, key, axes=2) \n",
        "          intensity = e\n",
        "          e = K.exp(e - K.max(e, axis=-1, keepdims=True))\n",
        "          attention = e / K.sum(e, axis=-1, keepdims=True)\n",
        "          v = K.batch_dot(attention, value)\n",
        "          return v\n",
        "       \n",
        "       \n",
        "        y = scaled_dot_product_attention(inputs=[q,k,v])\n",
        "        \n",
        "        \n",
        "        return y\n",
        "\n",
        "from tensorflow import keras \n",
        "from tensorflow.keras.regularizers import l2\n",
        "from tensorflow.keras.layers import *\n",
        "from tensorflow.keras.applications import *\n",
        "def load_model():   \n",
        "  \n",
        "  K.clear_session() \n",
        "  mod=densenet.DenseNet121(include_top=True, weights='imagenet')\n",
        "  d = mod.get_layer('conv5_block16_concat').output\n",
        "\n",
        "  inp = mod.get_layer('conv3_block12_concat').output\n",
        "  a = Reshape((28*28,512))(inp)\n",
        "  d_a = keras.layers.UpSampling2D(interpolation='bilinear',size=(4,4))(d)\n",
        "  d_a = Reshape((28*28,1024))(d_a)\n",
        "  a = abc(hidden_dim=512)([a,d_a,a])\n",
        "  a = LayerNormalization()(a)\n",
        "  a = Reshape((28,28,512,))(a)\n",
        "  a = keras.layers.GlobalAveragePooling2D()(a)\n",
        "\n",
        "  inp = mod.get_layer('conv4_block24_concat').output\n",
        "  b = Reshape((14*14,1024))(inp)\n",
        "  d_b = keras.layers.UpSampling2D(interpolation='bilinear',size=(2,2))(d)\n",
        "  d_b = Reshape((14*14,1024))(d_b)\n",
        "  b = abc(hidden_dim=1024)([b,d_b,b])\n",
        "  b = LayerNormalization()(b)\n",
        "  b = Reshape((14,14,1024,))(b)\n",
        "  b = keras.layers.GlobalAveragePooling2D()(b)\n",
        "\n",
        "  d = keras.layers.GlobalAveragePooling2D()(d)\n",
        "  \n",
        "\n",
        "  b = Dense(3, activation=\"softmax\")(b) \n",
        "  b = Reshape((-1,3))(b) \n",
        "  a = Dense(3, activation=\"softmax\")(a) \n",
        "  a = Reshape((-1,3))(a) \n",
        "  d = Dense(3, activation=\"softmax\")(d) \n",
        "  d = Reshape((-1,3))(d) \n",
        "  \n",
        "  conc=Concatenate(axis=1)([a,b,d])\n",
        "  conc=keras.layers.GlobalAveragePooling1D()(conc)\n",
        "  mod=Model(inputs=mod.input,outputs=conc)\n",
        "#   mod.load_weights('../input/global-3535-fold-1-1/weights.hdf5')\n",
        "#   for layer in mod.layers:\n",
        "#     layer.trainable=False\n",
        "  a=mod.layers[-9].output\n",
        "  b=mod.layers[-10].output\n",
        "  d=mod.layers[-11].output\n",
        "  b = Dense(1, activation=\"sigmoid\")(b) \n",
        "  b = Reshape((-1,1))(b) \n",
        "  a = Dense(1, activation=\"sigmoid\")(a) \n",
        "  a = Reshape((-1,1))(a) \n",
        "  d = Dense(1, activation=\"sigmoid\")(d) \n",
        "  d = Reshape((-1,1))(d) \n",
        "  conc=Concatenate(axis=1)([a,b,d])\n",
        "  conc=keras.layers.GlobalAveragePooling1D()(conc)\n",
        "  mod=Model(inputs=mod.input,outputs=conc)\n",
        "  return mod\n",
        "\n",
        "mod=load_model()"
      ],
      "execution_count": 5,
      "outputs": []
    },
    {
      "cell_type": "code",
      "metadata": {
        "id": "yHEaa5oJRgFm"
      },
      "source": [
        "\n",
        "\n",
        "from imgaug import augmenters as iaa\n",
        "def rotate_image(image, angle):\n",
        "  image_center = tuple(np.array(image.shape[1::-1]) / 2)\n",
        "  rot_mat = cv2.getRotationMatrix2D(image_center, angle, 1.0)\n",
        "  result = cv2.warpAffine(image, rot_mat, image.shape[1::-1], flags=cv2.INTER_LINEAR)\n",
        "  return result\n",
        "def Hflip( images):\n",
        "\t\tseq = iaa.Sequential([iaa.Fliplr(1.0)])\n",
        "\t\treturn seq.augment_images(images)\n",
        "def Vflip( images):\n",
        "\t\tseq = iaa.Sequential([iaa.Flipud(1.0)])\n",
        "\t\treturn seq.augment_images(images)\n",
        "def noise(images):\n",
        "    ls=[]\n",
        "    for i in images:\n",
        "        x = np.random.normal(loc=0, scale=0.05, size=(299,299,3))\n",
        "        ls.append(i+x)\n",
        "    return ls\n",
        "def rotate(images):\n",
        "    ls=[]\n",
        "    for angle in range(-15,20,5):\n",
        "        for image in images:\n",
        "            ls.append(rotate_image(image,angle))\n",
        "    return ls\n",
        "\n",
        "class DataGenerator(keras.utils.Sequence):\n",
        "  def __init__(self, images, labels, batch_size=64, image_dimensions = (96 ,96 ,3), shuffle=False, augment=False):\n",
        "    self.labels       = labels              # array of labels\n",
        "    self.images = images        # array of image paths\n",
        "    self.batch_size   = batch_size          # batch size\n",
        "    self.on_epoch_end()\n",
        "\n",
        "  def __len__(self):\n",
        "    return int(np.floor(self.labels.shape[0] / self.batch_size))\n",
        "\n",
        "  def on_epoch_end(self):\n",
        "    self.indexes = np.arange(self.labels.shape[0])\n",
        "\n",
        "  def __getitem__(self, index):\n",
        "\t\t# selects indices of data for next batch\n",
        "    indexes = self.indexes[index * self.batch_size : (index + 1) * self.batch_size]\n",
        "    # select data and load images\n",
        "    labels = self.labels[indexes]\n",
        "    img = [self.images[k].astype(np.float32) for k in indexes]\n",
        "    imgH=Hflip(img)\n",
        "    imgV=Vflip(img)\n",
        "    imgR=rotate(img)\n",
        "    images=[]\n",
        "    images.extend(imgH)\n",
        "    images.extend(imgV)\n",
        "    images.extend(imgR)\n",
        "    lbl=labels.copy()\n",
        "    labels=np.repeat(labels,9)\n",
        "    del([imgV,imgR,imgH,lbl])\n",
        "    gc.collect()\n",
        "    #images = np.array([preprocess_input(img) for img in images])\n",
        "    return np.asarray(images).astype('float16'), labels.astype('uint8')\n",
        "\n",
        "\n"
      ],
      "execution_count": 6,
      "outputs": []
    },
    {
      "cell_type": "code",
      "metadata": {
        "colab": {
          "base_uri": "https://localhost:8080/"
        },
        "id": "TIekIxDcRhC5",
        "outputId": "bc662e78-13ab-4875-be4a-0a81cb7d54a6"
      },
      "source": [
        "import cv2\n",
        "import gc\n",
        "from tensorflow.keras.optimizers import *\n",
        "train_data = DataGenerator(X_train,y_train, batch_size=4, augment=True)\n",
        "mod.compile(optimizer=Adam(5e-5,decay=8e-5), loss='binary_crossentropy', metrics=['accuracy'])\n",
        "hist=mod.fit_generator(train_data,epochs=50)\n",
        "gc.collect()"
      ],
      "execution_count": 7,
      "outputs": [
        {
          "output_type": "stream",
          "text": [
            "/usr/local/lib/python3.7/dist-packages/tensorflow/python/keras/engine/training.py:1940: UserWarning: `Model.fit_generator` is deprecated and will be removed in a future version. Please use `Model.fit`, which supports generators.\n",
            "  warnings.warn('`Model.fit_generator` is deprecated and '\n"
          ],
          "name": "stderr"
        },
        {
          "output_type": "stream",
          "text": [
            "Epoch 1/50\n",
            "81/81 [==============================] - 62s 559ms/step - loss: 0.6992 - accuracy: 0.5357\n",
            "Epoch 2/50\n",
            "81/81 [==============================] - 46s 571ms/step - loss: 0.6848 - accuracy: 0.5477\n",
            "Epoch 3/50\n",
            "81/81 [==============================] - 47s 581ms/step - loss: 0.6772 - accuracy: 0.5676\n",
            "Epoch 4/50\n",
            "81/81 [==============================] - 48s 588ms/step - loss: 0.6583 - accuracy: 0.6159\n",
            "Epoch 5/50\n",
            "81/81 [==============================] - 48s 592ms/step - loss: 0.6312 - accuracy: 0.6766\n",
            "Epoch 6/50\n",
            "81/81 [==============================] - 49s 596ms/step - loss: 0.6061 - accuracy: 0.7287\n",
            "Epoch 7/50\n",
            "81/81 [==============================] - 49s 598ms/step - loss: 0.5722 - accuracy: 0.7785\n",
            "Epoch 8/50\n",
            "81/81 [==============================] - 49s 600ms/step - loss: 0.5622 - accuracy: 0.7630\n",
            "Epoch 9/50\n",
            "81/81 [==============================] - 49s 600ms/step - loss: 0.5252 - accuracy: 0.7764\n",
            "Epoch 10/50\n",
            "81/81 [==============================] - 49s 600ms/step - loss: 0.5382 - accuracy: 0.7476\n",
            "Epoch 11/50\n",
            "81/81 [==============================] - 49s 600ms/step - loss: 0.4153 - accuracy: 0.8529\n",
            "Epoch 12/50\n",
            "81/81 [==============================] - 49s 601ms/step - loss: 0.3607 - accuracy: 0.8920\n",
            "Epoch 13/50\n",
            "81/81 [==============================] - 49s 601ms/step - loss: 0.3008 - accuracy: 0.9294\n",
            "Epoch 14/50\n",
            "81/81 [==============================] - 49s 602ms/step - loss: 0.2795 - accuracy: 0.9396\n",
            "Epoch 15/50\n",
            "81/81 [==============================] - 49s 601ms/step - loss: 0.2601 - accuracy: 0.9489\n",
            "Epoch 16/50\n",
            "81/81 [==============================] - 49s 601ms/step - loss: 0.2494 - accuracy: 0.9582\n",
            "Epoch 17/50\n",
            "81/81 [==============================] - 49s 600ms/step - loss: 0.2444 - accuracy: 0.9588\n",
            "Epoch 18/50\n",
            "81/81 [==============================] - 49s 602ms/step - loss: 0.2430 - accuracy: 0.9568\n",
            "Epoch 19/50\n",
            "81/81 [==============================] - 49s 600ms/step - loss: 0.2408 - accuracy: 0.9582\n",
            "Epoch 20/50\n",
            "81/81 [==============================] - 49s 600ms/step - loss: 0.2514 - accuracy: 0.9530\n",
            "Epoch 21/50\n",
            "81/81 [==============================] - 49s 600ms/step - loss: 0.2527 - accuracy: 0.9516\n",
            "Epoch 22/50\n",
            "81/81 [==============================] - 49s 599ms/step - loss: 0.2596 - accuracy: 0.9455\n",
            "Epoch 23/50\n",
            "81/81 [==============================] - 49s 600ms/step - loss: 0.2596 - accuracy: 0.9482\n",
            "Epoch 24/50\n",
            "81/81 [==============================] - 49s 600ms/step - loss: 0.2479 - accuracy: 0.9534\n",
            "Epoch 25/50\n",
            "81/81 [==============================] - 49s 599ms/step - loss: 0.2380 - accuracy: 0.9588\n",
            "Epoch 26/50\n",
            "81/81 [==============================] - 49s 599ms/step - loss: 0.2293 - accuracy: 0.9633\n",
            "Epoch 27/50\n",
            "81/81 [==============================] - 49s 599ms/step - loss: 0.2183 - accuracy: 0.9691\n",
            "Epoch 28/50\n",
            "81/81 [==============================] - 49s 599ms/step - loss: 0.2185 - accuracy: 0.9705\n",
            "Epoch 29/50\n",
            "81/81 [==============================] - 49s 599ms/step - loss: 0.2248 - accuracy: 0.9698\n",
            "Epoch 30/50\n",
            "81/81 [==============================] - 49s 599ms/step - loss: 0.2394 - accuracy: 0.9554\n",
            "Epoch 31/50\n",
            "81/81 [==============================] - 49s 599ms/step - loss: 0.2436 - accuracy: 0.9537\n",
            "Epoch 32/50\n",
            "81/81 [==============================] - 49s 598ms/step - loss: 0.2595 - accuracy: 0.9492\n",
            "Epoch 33/50\n",
            "81/81 [==============================] - 49s 599ms/step - loss: 0.2346 - accuracy: 0.9599\n",
            "Epoch 34/50\n",
            "81/81 [==============================] - 49s 598ms/step - loss: 0.2472 - accuracy: 0.9527\n",
            "Epoch 35/50\n",
            "81/81 [==============================] - 49s 599ms/step - loss: 0.2193 - accuracy: 0.9695\n",
            "Epoch 36/50\n",
            "81/81 [==============================] - 49s 599ms/step - loss: 0.2173 - accuracy: 0.9691\n",
            "Epoch 37/50\n",
            "81/81 [==============================] - 49s 599ms/step - loss: 0.2115 - accuracy: 0.9743\n",
            "Epoch 38/50\n",
            "81/81 [==============================] - 49s 599ms/step - loss: 0.2108 - accuracy: 0.9739\n",
            "Epoch 39/50\n",
            "81/81 [==============================] - 49s 598ms/step - loss: 0.2154 - accuracy: 0.9736\n",
            "Epoch 40/50\n",
            "81/81 [==============================] - 49s 599ms/step - loss: 0.2119 - accuracy: 0.9750\n",
            "Epoch 41/50\n",
            "81/81 [==============================] - 49s 599ms/step - loss: 0.2090 - accuracy: 0.9767\n",
            "Epoch 42/50\n",
            "81/81 [==============================] - 49s 599ms/step - loss: 0.2118 - accuracy: 0.9760\n",
            "Epoch 43/50\n",
            "81/81 [==============================] - 49s 599ms/step - loss: 0.2049 - accuracy: 0.9794\n",
            "Epoch 44/50\n",
            "81/81 [==============================] - 47s 582ms/step - loss: 0.2019 - accuracy: 0.9811\n",
            "Epoch 45/50\n",
            "81/81 [==============================] - 48s 589ms/step - loss: 0.2015 - accuracy: 0.9811\n",
            "Epoch 46/50\n",
            "81/81 [==============================] - 48s 592ms/step - loss: 0.2012 - accuracy: 0.9815\n",
            "Epoch 47/50\n",
            "81/81 [==============================] - 48s 595ms/step - loss: 0.2009 - accuracy: 0.9815\n",
            "Epoch 48/50\n",
            "81/81 [==============================] - 49s 597ms/step - loss: 0.2008 - accuracy: 0.9815\n",
            "Epoch 49/50\n",
            "81/81 [==============================] - 49s 599ms/step - loss: 0.2007 - accuracy: 0.9815\n",
            "Epoch 50/50\n",
            "81/81 [==============================] - 49s 599ms/step - loss: 0.2003 - accuracy: 0.9818\n"
          ],
          "name": "stdout"
        },
        {
          "output_type": "execute_result",
          "data": {
            "text/plain": [
              "0"
            ]
          },
          "metadata": {
            "tags": []
          },
          "execution_count": 7
        }
      ]
    },
    {
      "cell_type": "code",
      "metadata": {
        "id": "rc6Eq8C0Ri9m",
        "colab": {
          "base_uri": "https://localhost:8080/",
          "height": 283
        },
        "outputId": "49e42f3f-8ec5-4639-da26-aeae1f5ce0e0"
      },
      "source": [
        "from matplotlib import pyplot as plt\n",
        "plt.plot(hist.history['loss'])"
      ],
      "execution_count": 8,
      "outputs": [
        {
          "output_type": "execute_result",
          "data": {
            "text/plain": [
              "[<matplotlib.lines.Line2D at 0x7fe28892b310>]"
            ]
          },
          "metadata": {
            "tags": []
          },
          "execution_count": 8
        },
        {
          "output_type": "display_data",
          "data": {
            "image/png": "[encoded data removed]",
            "text/plain": [
              "<Figure size 432x288 with 1 Axes>"
            ]
          },
          "metadata": {
            "tags": [],
            "needs_background": "light"
          }
        }
      ]
    },
    {
      "cell_type": "code",
      "metadata": {
        "id": "bx5urG9Zak78",
        "colab": {
          "base_uri": "https://localhost:8080/"
        },
        "outputId": "9e0537fd-7fcf-46ed-9fcd-69c44bc92450"
      },
      "source": [
        "pre=mod.predict(X_test)\n",
        "from sklearn.metrics import accuracy_score\n",
        "accuracy_score(np.round(pre),y_test)"
      ],
      "execution_count": 9,
      "outputs": [
        {
          "output_type": "execute_result",
          "data": {
            "text/plain": [
              "0.577639751552795"
            ]
          },
          "metadata": {
            "tags": []
          },
          "execution_count": 9
        }
      ]
    },
    {
      "cell_type": "code",
      "metadata": {
        "id": "1H5XY-IcasPP"
      },
      "source": [
        ""
      ],
      "execution_count": 9,
      "outputs": []
    }
  ]
}