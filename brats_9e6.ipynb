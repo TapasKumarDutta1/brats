{
  "nbformat": 4,
  "nbformat_minor": 0,
  "metadata": {
    "colab": {
      "name": "brats_9e6.ipynb",
      "provenance": [],
      "authorship_tag": "ABX9TyOWCLSOKG4fS2TtyrB5mxdT",
      "include_colab_link": true
    },
    "kernelspec": {
      "name": "python3",
      "display_name": "Python 3"
    },
    "language_info": {
      "name": "python"
    },
    "accelerator": "GPU"
  },
  "cells": [
    {
      "cell_type": "markdown",
      "metadata": {
        "id": "view-in-github",
        "colab_type": "text"
      },
      "source": [
        "<a href=\"https://colab.research.google.com/github/greyhound101/brats/blob/main/brats_9e6.ipynb\" target=\"_parent\"><img src=\"https://colab.research.google.com/assets/colab-badge.svg\" alt=\"Open In Colab\"/></a>"
      ]
    },
    {
      "cell_type": "code",
      "metadata": {
        "colab": {
          "base_uri": "https://localhost:8080/"
        },
        "id": "m_HObXxmRSmq",
        "outputId": "d347f01c-fff8-4219-b2c6-a4c73d48cccf"
      },
      "source": [
        "from google.colab import drive\n",
        "drive.mount('/content/gdrive')\n",
        "drive.mount(\"/content/gdrive\", force_remount=True)"
      ],
      "execution_count": 2,
      "outputs": [
        {
          "output_type": "stream",
          "text": [
            "Mounted at /content/gdrive\n",
            "Mounted at /content/gdrive\n"
          ],
          "name": "stdout"
        }
      ]
    },
    {
      "cell_type": "code",
      "metadata": {
        "colab": {
          "base_uri": "https://localhost:8080/"
        },
        "id": "hSmd13EIRXh4",
        "outputId": "7633ae05-8caa-4f30-bf7f-5b782b2c4fb3"
      },
      "source": [
        "pip install medpy"
      ],
      "execution_count": 3,
      "outputs": [
        {
          "output_type": "stream",
          "text": [
            "Collecting medpy\n",
            "\u001b[?25l  Downloading https://files.pythonhosted.org/packages/3b/70/c1fd5dd60242eee81774696ea7ba4caafac2bad8f028bba94b1af83777d7/MedPy-0.4.0.tar.gz (151kB)\n",
            "\r\u001b[K     |██▏                             | 10kB 24.7MB/s eta 0:00:01\r\u001b[K     |████▎                           | 20kB 17.1MB/s eta 0:00:01\r\u001b[K     |██████▌                         | 30kB 14.3MB/s eta 0:00:01\r\u001b[K     |████████▋                       | 40kB 13.5MB/s eta 0:00:01\r\u001b[K     |██████████▉                     | 51kB 7.0MB/s eta 0:00:01\r\u001b[K     |█████████████                   | 61kB 7.7MB/s eta 0:00:01\r\u001b[K     |███████████████                 | 71kB 8.3MB/s eta 0:00:01\r\u001b[K     |█████████████████▎              | 81kB 8.5MB/s eta 0:00:01\r\u001b[K     |███████████████████▍            | 92kB 9.0MB/s eta 0:00:01\r\u001b[K     |█████████████████████▋          | 102kB 7.3MB/s eta 0:00:01\r\u001b[K     |███████████████████████▊        | 112kB 7.3MB/s eta 0:00:01\r\u001b[K     |██████████████████████████      | 122kB 7.3MB/s eta 0:00:01\r\u001b[K     |████████████████████████████    | 133kB 7.3MB/s eta 0:00:01\r\u001b[K     |██████████████████████████████▏ | 143kB 7.3MB/s eta 0:00:01\r\u001b[K     |████████████████████████████████| 153kB 7.3MB/s \n",
            "\u001b[?25hRequirement already satisfied: scipy>=1.1.0 in /usr/local/lib/python3.7/dist-packages (from medpy) (1.4.1)\n",
            "Requirement already satisfied: numpy>=1.11.0 in /usr/local/lib/python3.7/dist-packages (from medpy) (1.19.5)\n",
            "Collecting SimpleITK>=1.1.0\n",
            "\u001b[?25l  Downloading https://files.pythonhosted.org/packages/9c/6b/85df5eb3a8059b23a53a9f224476e75473f9bcc0a8583ed1a9c34619f372/SimpleITK-2.0.2-cp37-cp37m-manylinux2010_x86_64.whl (47.4MB)\n",
            "\u001b[K     |████████████████████████████████| 47.4MB 64kB/s \n",
            "\u001b[?25hBuilding wheels for collected packages: medpy\n",
            "  Building wheel for medpy (setup.py) ... \u001b[?25l\u001b[?25hdone\n",
            "  Created wheel for medpy: filename=MedPy-0.4.0-cp37-cp37m-linux_x86_64.whl size=754462 sha256=63bfb813ea0be4c56d5db70cee1f765f99b8a3262ba992bae62dba76860e47ae\n",
            "  Stored in directory: /root/.cache/pip/wheels/8c/c9/9c/2c6281c7a72b9fb1570862a4f028af7ce38405008354fbf870\n",
            "Successfully built medpy\n",
            "Installing collected packages: SimpleITK, medpy\n",
            "Successfully installed SimpleITK-2.0.2 medpy-0.4.0\n"
          ],
          "name": "stdout"
        }
      ]
    },
    {
      "cell_type": "code",
      "metadata": {
        "id": "XdvyM_dkRYbG"
      },
      "source": [
        "import numpy as np\n",
        "images=np.load('/content/gdrive/MyDrive/Brats2d/images.npy')\n",
        "targets=np.load('/content/gdrive/MyDrive/Brats2d/targets.npy')"
      ],
      "execution_count": 4,
      "outputs": []
    },
    {
      "cell_type": "code",
      "metadata": {
        "id": "mEULO0HKRZWu"
      },
      "source": [
        "from sklearn.model_selection import train_test_split\n",
        "X_train, X_test, y_train, y_test = train_test_split(images,targets, test_size=0.33, random_state=42)"
      ],
      "execution_count": 5,
      "outputs": []
    },
    {
      "cell_type": "code",
      "metadata": {
        "colab": {
          "base_uri": "https://localhost:8080/"
        },
        "id": "gT30jk3sRaLZ",
        "outputId": "64b00c1c-3464-4292-b300-8ace4c0949f4"
      },
      "source": [
        "from tensorflow.keras.layers import *\n",
        "import tensorflow as tf\n",
        "import random, os, sys\n",
        "import numpy as np\n",
        "from tensorflow.keras.models import *\n",
        "from tensorflow.keras.layers import *\n",
        "from tensorflow.keras.callbacks import *\n",
        "from tensorflow.keras.initializers import *\n",
        "import tensorflow as tf\n",
        "from tensorflow.keras.applications import *\n",
        "from tensorflow.keras.layers import *\n",
        "from tensorflow.keras import backend as K\n",
        "from tensorflow.keras.models import Model\n",
        "from tensorflow import keras\n",
        "from tensorflow.keras import backend as K\n",
        "class LayerNormalization(Layer):\n",
        "    def __init__(self, eps=1e-6, **kwargs):\n",
        "        self.eps = eps\n",
        "        super(LayerNormalization, self).__init__(**kwargs)\n",
        "    def build(self, input_shape):\n",
        "        self.gamma = self.add_weight(name='gamma', shape=input_shape[-1:],\n",
        "                                     initializer=Ones(), trainable=True)\n",
        "        self.beta = self.add_weight(name='beta', shape=input_shape[-1:],\n",
        "                                    initializer=Zeros(), trainable=True)\n",
        "        super(LayerNormalization, self).build(input_shape)\n",
        "    def call(self, x):\n",
        "        mean = K.mean(x, axis=-1, keepdims=True)\n",
        "        std = K.std(x, axis=-1, keepdims=True)\n",
        "        return self.gamma * (x - mean) / (std + self.eps) + self.beta\n",
        "    def compute_output_shape(self, input_shape):\n",
        "        return input_shape\n",
        "class abc(keras.layers.Layer):\n",
        "    def __init__(self,\n",
        "                 hidden_dim,\n",
        "                 **kwargs):\n",
        "        self.hidden_dim = hidden_dim\n",
        "        \n",
        "        self.conv1=Conv1D(self.hidden_dim,1)\n",
        "        self.conv2=Conv1D(self.hidden_dim,1)\n",
        "        self.conv3=Conv1D(self.hidden_dim,1)\n",
        "        \n",
        "        self.Wq = self.Wk = self.Wv = self.Wo = None\n",
        "        self.bq = self.bk = self.bv = self.bo = None\n",
        "\n",
        "        self.intensity = self.attention = None\n",
        "        super(abc, self).__init__(**kwargs)\n",
        "\n",
        "    def call(self, inputs, mask=None):\n",
        "        \n",
        "        q, k, v = inputs\n",
        "        \n",
        "        q=self.conv1(q)\n",
        "        k=self.conv2(k)\n",
        "        v=self.conv3(v)\n",
        "        \n",
        "        \n",
        "        def scaled_dot_product_attention(inputs):\n",
        "          query, key, value = inputs\n",
        "          feature_dim = K.shape(query)[-1]\n",
        "          e = K.batch_dot(query, key, axes=2) \n",
        "          intensity = e\n",
        "          e = K.exp(e - K.max(e, axis=-1, keepdims=True))\n",
        "          attention = e / K.sum(e, axis=-1, keepdims=True)\n",
        "          v = K.batch_dot(attention, value)\n",
        "          return v\n",
        "       \n",
        "       \n",
        "        y = scaled_dot_product_attention(inputs=[q,k,v])\n",
        "        \n",
        "        \n",
        "        return y\n",
        "\n",
        "from tensorflow import keras \n",
        "from tensorflow.keras.regularizers import l2\n",
        "from tensorflow.keras.layers import *\n",
        "from tensorflow.keras.applications import *\n",
        "def load_model():   \n",
        "  \n",
        "  K.clear_session() \n",
        "  mod=densenet.DenseNet121(include_top=True, weights='imagenet')\n",
        "  d = mod.get_layer('conv5_block16_concat').output\n",
        "\n",
        "  inp = mod.get_layer('conv3_block12_concat').output\n",
        "  a = Reshape((28*28,512))(inp)\n",
        "  d_a = keras.layers.UpSampling2D(interpolation='bilinear',size=(4,4))(d)\n",
        "  d_a = Reshape((28*28,1024))(d_a)\n",
        "  a = abc(hidden_dim=512)([a,d_a,a])\n",
        "  a = LayerNormalization()(a)\n",
        "  a = Reshape((28,28,512,))(a)\n",
        "  a = keras.layers.GlobalAveragePooling2D()(a)\n",
        "\n",
        "  inp = mod.get_layer('conv4_block24_concat').output\n",
        "  b = Reshape((14*14,1024))(inp)\n",
        "  d_b = keras.layers.UpSampling2D(interpolation='bilinear',size=(2,2))(d)\n",
        "  d_b = Reshape((14*14,1024))(d_b)\n",
        "  b = abc(hidden_dim=1024)([b,d_b,b])\n",
        "  b = LayerNormalization()(b)\n",
        "  b = Reshape((14,14,1024,))(b)\n",
        "  b = keras.layers.GlobalAveragePooling2D()(b)\n",
        "\n",
        "  d = keras.layers.GlobalAveragePooling2D()(d)\n",
        "  \n",
        "\n",
        "  b = Dense(3, activation=\"softmax\")(b) \n",
        "  b = Reshape((-1,3))(b) \n",
        "  a = Dense(3, activation=\"softmax\")(a) \n",
        "  a = Reshape((-1,3))(a) \n",
        "  d = Dense(3, activation=\"softmax\")(d) \n",
        "  d = Reshape((-1,3))(d) \n",
        "  \n",
        "  conc=Concatenate(axis=1)([a,b,d])\n",
        "  conc=keras.layers.GlobalAveragePooling1D()(conc)\n",
        "  mod=Model(inputs=mod.input,outputs=conc)\n",
        "#   mod.load_weights('../input/global-3535-fold-1-1/weights.hdf5')\n",
        "#   for layer in mod.layers:\n",
        "#     layer.trainable=False\n",
        "  a=mod.layers[-9].output\n",
        "  b=mod.layers[-10].output\n",
        "  d=mod.layers[-11].output\n",
        "  b = Dense(1, activation=\"sigmoid\")(b) \n",
        "  b = Reshape((-1,1))(b) \n",
        "  a = Dense(1, activation=\"sigmoid\")(a) \n",
        "  a = Reshape((-1,1))(a) \n",
        "  d = Dense(1, activation=\"sigmoid\")(d) \n",
        "  d = Reshape((-1,1))(d) \n",
        "  conc=Concatenate(axis=1)([a,b,d])\n",
        "  conc=keras.layers.GlobalAveragePooling1D()(conc)\n",
        "  mod=Model(inputs=mod.input,outputs=conc)\n",
        "  return mod\n",
        "\n",
        "mod=load_model()"
      ],
      "execution_count": 6,
      "outputs": [
        {
          "output_type": "stream",
          "text": [
            "Downloading data from https://storage.googleapis.com/tensorflow/keras-applications/densenet/densenet121_weights_tf_dim_ordering_tf_kernels.h5\n",
            "33193984/33188688 [==============================] - 0s 0us/step\n"
          ],
          "name": "stdout"
        }
      ]
    },
    {
      "cell_type": "code",
      "metadata": {
        "id": "yHEaa5oJRgFm"
      },
      "source": [
        "\n",
        "\n",
        "from imgaug import augmenters as iaa\n",
        "def rotate_image(image, angle):\n",
        "  image_center = tuple(np.array(image.shape[1::-1]) / 2)\n",
        "  rot_mat = cv2.getRotationMatrix2D(image_center, angle, 1.0)\n",
        "  result = cv2.warpAffine(image, rot_mat, image.shape[1::-1], flags=cv2.INTER_LINEAR)\n",
        "  return result\n",
        "def Hflip( images):\n",
        "\t\tseq = iaa.Sequential([iaa.Fliplr(1.0)])\n",
        "\t\treturn seq.augment_images(images)\n",
        "def Vflip( images):\n",
        "\t\tseq = iaa.Sequential([iaa.Flipud(1.0)])\n",
        "\t\treturn seq.augment_images(images)\n",
        "def noise(images):\n",
        "    ls=[]\n",
        "    for i in images:\n",
        "        x = np.random.normal(loc=0, scale=0.05, size=(299,299,3))\n",
        "        ls.append(i+x)\n",
        "    return ls\n",
        "def rotate(images):\n",
        "    ls=[]\n",
        "    for angle in range(-15,20,5):\n",
        "        for image in images:\n",
        "            ls.append(rotate_image(image,angle))\n",
        "    return ls\n",
        "\n",
        "class DataGenerator(keras.utils.Sequence):\n",
        "  def __init__(self, images, labels, batch_size=64, image_dimensions = (96 ,96 ,3), shuffle=False, augment=False):\n",
        "    self.labels       = labels              # array of labels\n",
        "    self.images = images        # array of image paths\n",
        "    self.batch_size   = batch_size          # batch size\n",
        "    self.on_epoch_end()\n",
        "\n",
        "  def __len__(self):\n",
        "    return int(np.floor(self.labels.shape[0] / self.batch_size))\n",
        "\n",
        "  def on_epoch_end(self):\n",
        "    self.indexes = np.arange(self.labels.shape[0])\n",
        "\n",
        "  def __getitem__(self, index):\n",
        "\t\t# selects indices of data for next batch\n",
        "    indexes = self.indexes[index * self.batch_size : (index + 1) * self.batch_size]\n",
        "    # select data and load images\n",
        "    labels = self.labels[indexes]\n",
        "    img = [self.images[k].astype(np.float32) for k in indexes]\n",
        "    imgH=Hflip(img)\n",
        "    imgV=Vflip(img)\n",
        "    imgR=rotate(img)\n",
        "    images=[]\n",
        "    images.extend(imgH)\n",
        "    images.extend(imgV)\n",
        "    images.extend(imgR)\n",
        "    lbl=labels.copy()\n",
        "    labels=np.repeat(labels,9)\n",
        "    del([imgV,imgR,imgH,lbl])\n",
        "    gc.collect()\n",
        "    #images = np.array([preprocess_input(img) for img in images])\n",
        "    return np.asarray(images).astype('float16'), labels.astype('uint8')\n",
        "\n",
        "\n"
      ],
      "execution_count": 7,
      "outputs": []
    },
    {
      "cell_type": "code",
      "metadata": {
        "colab": {
          "base_uri": "https://localhost:8080/"
        },
        "id": "TIekIxDcRhC5",
        "outputId": "9453f51c-4927-45c7-b036-ed0cf79edbdc"
      },
      "source": [
        "import cv2\n",
        "import gc\n",
        "from tensorflow.keras.optimizers import *\n",
        "train_data = DataGenerator(X_train,y_train, batch_size=4, augment=True)\n",
        "mod.compile(optimizer=Adam(9e-6), loss='binary_crossentropy', metrics=['accuracy'])\n",
        "hist=mod.fit_generator(train_data,epochs=50)\n",
        "gc.collect()"
      ],
      "execution_count": 8,
      "outputs": [
        {
          "output_type": "stream",
          "text": [
            "/usr/local/lib/python3.7/dist-packages/tensorflow/python/keras/engine/training.py:1940: UserWarning: `Model.fit_generator` is deprecated and will be removed in a future version. Please use `Model.fit`, which supports generators.\n",
            "  warnings.warn('`Model.fit_generator` is deprecated and '\n"
          ],
          "name": "stderr"
        },
        {
          "output_type": "stream",
          "text": [
            "Epoch 1/50\n",
            "81/81 [==============================] - 94s 590ms/step - loss: 0.6954 - accuracy: 0.5147\n",
            "Epoch 2/50\n",
            "81/81 [==============================] - 50s 620ms/step - loss: 0.6853 - accuracy: 0.5521\n",
            "Epoch 3/50\n",
            "81/81 [==============================] - 50s 611ms/step - loss: 0.6928 - accuracy: 0.5401\n",
            "Epoch 4/50\n",
            "81/81 [==============================] - 50s 612ms/step - loss: 0.6793 - accuracy: 0.5528\n",
            "Epoch 5/50\n",
            "81/81 [==============================] - 50s 612ms/step - loss: 0.6678 - accuracy: 0.5844\n",
            "Epoch 6/50\n",
            "81/81 [==============================] - 50s 613ms/step - loss: 0.6579 - accuracy: 0.6094\n",
            "Epoch 7/50\n",
            "81/81 [==============================] - 50s 613ms/step - loss: 0.6376 - accuracy: 0.6351\n",
            "Epoch 8/50\n",
            "81/81 [==============================] - 50s 613ms/step - loss: 0.6304 - accuracy: 0.6382\n",
            "Epoch 9/50\n",
            "81/81 [==============================] - 50s 611ms/step - loss: 0.5590 - accuracy: 0.7428\n",
            "Epoch 10/50\n",
            "81/81 [==============================] - 50s 611ms/step - loss: 0.5120 - accuracy: 0.8145\n",
            "Epoch 11/50\n",
            "81/81 [==============================] - 50s 611ms/step - loss: 0.4610 - accuracy: 0.8789\n",
            "Epoch 12/50\n",
            "81/81 [==============================] - 50s 611ms/step - loss: 0.4113 - accuracy: 0.9036\n",
            "Epoch 13/50\n",
            "81/81 [==============================] - 50s 614ms/step - loss: 0.3426 - accuracy: 0.9170\n",
            "Epoch 14/50\n",
            "81/81 [==============================] - 50s 613ms/step - loss: 0.2794 - accuracy: 0.9472\n",
            "Epoch 15/50\n",
            "81/81 [==============================] - 50s 613ms/step - loss: 0.2431 - accuracy: 0.9636\n",
            "Epoch 16/50\n",
            "81/81 [==============================] - 50s 614ms/step - loss: 0.2101 - accuracy: 0.9794\n",
            "Epoch 17/50\n",
            "81/81 [==============================] - 50s 614ms/step - loss: 0.1990 - accuracy: 0.9856\n",
            "Epoch 18/50\n",
            "81/81 [==============================] - 50s 612ms/step - loss: 0.1930 - accuracy: 0.9870\n",
            "Epoch 19/50\n",
            "81/81 [==============================] - 50s 612ms/step - loss: 0.1897 - accuracy: 0.9873\n",
            "Epoch 20/50\n",
            "81/81 [==============================] - 50s 613ms/step - loss: 0.1808 - accuracy: 0.9918\n",
            "Epoch 21/50\n",
            "81/81 [==============================] - 50s 614ms/step - loss: 0.1771 - accuracy: 0.9918\n",
            "Epoch 22/50\n",
            "81/81 [==============================] - 50s 613ms/step - loss: 0.1734 - accuracy: 0.9921\n",
            "Epoch 23/50\n",
            "81/81 [==============================] - 50s 614ms/step - loss: 0.1706 - accuracy: 0.9925\n",
            "Epoch 24/50\n",
            "81/81 [==============================] - 50s 613ms/step - loss: 0.1672 - accuracy: 0.9925\n",
            "Epoch 25/50\n",
            "81/81 [==============================] - 50s 613ms/step - loss: 0.1633 - accuracy: 0.9925\n",
            "Epoch 26/50\n",
            "81/81 [==============================] - 50s 613ms/step - loss: 0.1633 - accuracy: 0.9904\n",
            "Epoch 27/50\n",
            "81/81 [==============================] - 50s 613ms/step - loss: 0.1665 - accuracy: 0.9880\n",
            "Epoch 28/50\n",
            "81/81 [==============================] - 50s 612ms/step - loss: 0.1743 - accuracy: 0.9815\n",
            "Epoch 29/50\n",
            "81/81 [==============================] - 50s 612ms/step - loss: 0.1625 - accuracy: 0.9877\n",
            "Epoch 30/50\n",
            "81/81 [==============================] - 50s 612ms/step - loss: 0.1492 - accuracy: 0.9931\n",
            "Epoch 31/50\n",
            "81/81 [==============================] - 50s 613ms/step - loss: 0.1426 - accuracy: 0.9942\n",
            "Epoch 32/50\n",
            "81/81 [==============================] - 50s 614ms/step - loss: 0.1359 - accuracy: 0.9942\n",
            "Epoch 33/50\n",
            "81/81 [==============================] - 50s 613ms/step - loss: 0.1328 - accuracy: 0.9935\n",
            "Epoch 34/50\n",
            "81/81 [==============================] - 50s 612ms/step - loss: 0.1273 - accuracy: 0.9938\n",
            "Epoch 35/50\n",
            "81/81 [==============================] - 50s 613ms/step - loss: 0.1279 - accuracy: 0.9911\n",
            "Epoch 36/50\n",
            "81/81 [==============================] - 50s 614ms/step - loss: 0.1273 - accuracy: 0.9890\n",
            "Epoch 37/50\n",
            "81/81 [==============================] - 50s 611ms/step - loss: 0.1657 - accuracy: 0.9654\n",
            "Epoch 38/50\n",
            "81/81 [==============================] - 50s 612ms/step - loss: 0.1240 - accuracy: 0.9897\n",
            "Epoch 39/50\n",
            "81/81 [==============================] - 50s 615ms/step - loss: 0.1031 - accuracy: 0.9966\n",
            "Epoch 40/50\n",
            "81/81 [==============================] - 50s 614ms/step - loss: 0.0989 - accuracy: 0.9962\n",
            "Epoch 41/50\n",
            "81/81 [==============================] - 50s 612ms/step - loss: 0.0893 - accuracy: 0.9979\n",
            "Epoch 42/50\n",
            "81/81 [==============================] - 50s 611ms/step - loss: 0.0823 - accuracy: 0.9986\n",
            "Epoch 43/50\n",
            "81/81 [==============================] - 50s 613ms/step - loss: 0.0761 - accuracy: 0.9986\n",
            "Epoch 44/50\n",
            "81/81 [==============================] - 50s 614ms/step - loss: 0.0705 - accuracy: 0.9986\n",
            "Epoch 45/50\n",
            "81/81 [==============================] - 50s 613ms/step - loss: 0.0654 - accuracy: 0.9986\n",
            "Epoch 46/50\n",
            "81/81 [==============================] - 50s 613ms/step - loss: 0.0601 - accuracy: 0.9986\n",
            "Epoch 47/50\n",
            "81/81 [==============================] - 50s 613ms/step - loss: 0.0543 - accuracy: 0.9990\n",
            "Epoch 48/50\n",
            "81/81 [==============================] - 50s 620ms/step - loss: 0.0494 - accuracy: 0.9993\n",
            "Epoch 49/50\n",
            "81/81 [==============================] - 50s 619ms/step - loss: 0.0437 - accuracy: 1.0000\n",
            "Epoch 50/50\n",
            "81/81 [==============================] - 50s 609ms/step - loss: 0.0397 - accuracy: 1.0000\n"
          ],
          "name": "stdout"
        },
        {
          "output_type": "execute_result",
          "data": {
            "text/plain": [
              "0"
            ]
          },
          "metadata": {
            "tags": []
          },
          "execution_count": 8
        }
      ]
    },
    {
      "cell_type": "code",
      "metadata": {
        "colab": {
          "base_uri": "https://localhost:8080/",
          "height": 283
        },
        "id": "rc6Eq8C0Ri9m",
        "outputId": "7d0cdf46-1d65-4923-97ce-ff1857db5b61"
      },
      "source": [
        "from matplotlib import pyplot as plt\n",
        "plt.plot(hist.history['loss'])"
      ],
      "execution_count": 9,
      "outputs": [
        {
          "output_type": "execute_result",
          "data": {
            "text/plain": [
              "[<matplotlib.lines.Line2D at 0x7f3b60370850>]"
            ]
          },
          "metadata": {
            "tags": []
          },
          "execution_count": 9
        },
        {
          "output_type": "display_data",
          "data": {
            "image/png": "[encoded data removed]",
            "text/plain": [
              "<Figure size 432x288 with 1 Axes>"
            ]
          },
          "metadata": {
            "tags": [],
            "needs_background": "light"
          }
        }
      ]
    },
    {
      "cell_type": "code",
      "metadata": {
        "colab": {
          "base_uri": "https://localhost:8080/"
        },
        "id": "bx5urG9Zak78",
        "outputId": "f52cd285-a919-4471-a03a-75a00d63707f"
      },
      "source": [
        "pre=mod.predict(X_test)\n",
        "from sklearn.metrics import accuracy_score\n",
        "accuracy_score(np.round(pre),y_test)"
      ],
      "execution_count": 10,
      "outputs": [
        {
          "output_type": "execute_result",
          "data": {
            "text/plain": [
              "0.546583850931677"
            ]
          },
          "metadata": {
            "tags": []
          },
          "execution_count": 10
        }
      ]
    },
    {
      "cell_type": "code",
      "metadata": {
        "id": "1H5XY-IcasPP"
      },
      "source": [
        ""
      ],
      "execution_count": null,
      "outputs": []
    }
  ]
}