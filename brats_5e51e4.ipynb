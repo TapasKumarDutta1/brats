{
  "nbformat": 4,
  "nbformat_minor": 0,
  "metadata": {
    "colab": {
      "name": "brats_5e51e4.ipynb",
      "provenance": [],
      "authorship_tag": "ABX9TyNyXR/FOjHIVUz3UZCvit2i",
      "include_colab_link": true
    },
    "kernelspec": {
      "name": "python3",
      "display_name": "Python 3"
    },
    "language_info": {
      "name": "python"
    },
    "accelerator": "GPU"
  },
  "cells": [
    {
      "cell_type": "markdown",
      "metadata": {
        "id": "view-in-github",
        "colab_type": "text"
      },
      "source": [
        "<a href=\"https://colab.research.google.com/github/greyhound101/brats/blob/main/brats_5e51e4.ipynb\" target=\"_parent\"><img src=\"https://colab.research.google.com/assets/colab-badge.svg\" alt=\"Open In Colab\"/></a>"
      ]
    },
    {
      "cell_type": "code",
      "metadata": {
        "colab": {
          "base_uri": "https://localhost:8080/"
        },
        "id": "9BE8ybeW8ohO",
        "outputId": "c1a8814b-b10a-4591-cdf9-da56f89ac8b0"
      },
      "source": [
        "from google.colab import drive\n",
        "drive.mount('/content/gdrive')\n",
        "drive.mount(\"/content/gdrive\", force_remount=True)"
      ],
      "execution_count": 1,
      "outputs": [
        {
          "output_type": "stream",
          "text": [
            "Drive already mounted at /content/gdrive; to attempt to forcibly remount, call drive.mount(\"/content/gdrive\", force_remount=True).\n",
            "Mounted at /content/gdrive\n"
          ],
          "name": "stdout"
        }
      ]
    },
    {
      "cell_type": "code",
      "metadata": {
        "colab": {
          "base_uri": "https://localhost:8080/"
        },
        "id": "WH28Ai7h8sKd",
        "outputId": "05814a15-f4d6-44d5-d0ee-01a678f0808b"
      },
      "source": [
        "pip install medpy"
      ],
      "execution_count": 2,
      "outputs": [
        {
          "output_type": "stream",
          "text": [
            "Requirement already satisfied: medpy in /usr/local/lib/python3.7/dist-packages (0.4.0)\n",
            "Requirement already satisfied: scipy>=1.1.0 in /usr/local/lib/python3.7/dist-packages (from medpy) (1.4.1)\n",
            "Requirement already satisfied: numpy>=1.11.0 in /usr/local/lib/python3.7/dist-packages (from medpy) (1.19.5)\n",
            "Requirement already satisfied: SimpleITK>=1.1.0 in /usr/local/lib/python3.7/dist-packages (from medpy) (2.0.2)\n"
          ],
          "name": "stdout"
        }
      ]
    },
    {
      "cell_type": "code",
      "metadata": {
        "id": "3b41zmYl81Sb"
      },
      "source": [
        "import numpy as np\n",
        "images=np.load('/content/gdrive/MyDrive/Brats2d/images.npy')\n",
        "targets=np.load('/content/gdrive/MyDrive/Brats2d/targets.npy')"
      ],
      "execution_count": 3,
      "outputs": []
    },
    {
      "cell_type": "code",
      "metadata": {
        "id": "hUjMFxZE8zC4"
      },
      "source": [
        "from sklearn.model_selection import train_test_split\n",
        "X_train, X_test, y_train, y_test = train_test_split(images,targets, test_size=0.33, random_state=42)"
      ],
      "execution_count": 4,
      "outputs": []
    },
    {
      "cell_type": "code",
      "metadata": {
        "id": "Cp7oJ7Jw8_ZO"
      },
      "source": [
        "from tensorflow.keras.layers import *\n",
        "import tensorflow as tf\n",
        "import random, os, sys\n",
        "import numpy as np\n",
        "from tensorflow.keras.models import *\n",
        "from tensorflow.keras.layers import *\n",
        "from tensorflow.keras.callbacks import *\n",
        "from tensorflow.keras.initializers import *\n",
        "import tensorflow as tf\n",
        "from tensorflow.keras.applications import *\n",
        "from tensorflow.keras.layers import *\n",
        "from tensorflow.keras import backend as K\n",
        "from tensorflow.keras.models import Model\n",
        "from tensorflow import keras\n",
        "from tensorflow.keras import backend as K\n",
        "class LayerNormalization(Layer):\n",
        "    def __init__(self, eps=1e-6, **kwargs):\n",
        "        self.eps = eps\n",
        "        super(LayerNormalization, self).__init__(**kwargs)\n",
        "    def build(self, input_shape):\n",
        "        self.gamma = self.add_weight(name='gamma', shape=input_shape[-1:],\n",
        "                                     initializer=Ones(), trainable=True)\n",
        "        self.beta = self.add_weight(name='beta', shape=input_shape[-1:],\n",
        "                                    initializer=Zeros(), trainable=True)\n",
        "        super(LayerNormalization, self).build(input_shape)\n",
        "    def call(self, x):\n",
        "        mean = K.mean(x, axis=-1, keepdims=True)\n",
        "        std = K.std(x, axis=-1, keepdims=True)\n",
        "        return self.gamma * (x - mean) / (std + self.eps) + self.beta\n",
        "    def compute_output_shape(self, input_shape):\n",
        "        return input_shape\n",
        "class abc(keras.layers.Layer):\n",
        "    def __init__(self,\n",
        "                 hidden_dim,\n",
        "                 **kwargs):\n",
        "        self.hidden_dim = hidden_dim\n",
        "        \n",
        "        self.conv1=Conv1D(self.hidden_dim,1)\n",
        "        self.conv2=Conv1D(self.hidden_dim,1)\n",
        "        self.conv3=Conv1D(self.hidden_dim,1)\n",
        "        \n",
        "        self.Wq = self.Wk = self.Wv = self.Wo = None\n",
        "        self.bq = self.bk = self.bv = self.bo = None\n",
        "\n",
        "        self.intensity = self.attention = None\n",
        "        super(abc, self).__init__(**kwargs)\n",
        "\n",
        "    def call(self, inputs, mask=None):\n",
        "        \n",
        "        q, k, v = inputs\n",
        "        \n",
        "        q=self.conv1(q)\n",
        "        k=self.conv2(k)\n",
        "        v=self.conv3(v)\n",
        "        \n",
        "        \n",
        "        def scaled_dot_product_attention(inputs):\n",
        "          query, key, value = inputs\n",
        "          feature_dim = K.shape(query)[-1]\n",
        "          e = K.batch_dot(query, key, axes=2) \n",
        "          intensity = e\n",
        "          e = K.exp(e - K.max(e, axis=-1, keepdims=True))\n",
        "          attention = e / K.sum(e, axis=-1, keepdims=True)\n",
        "          v = K.batch_dot(attention, value)\n",
        "          return v\n",
        "       \n",
        "       \n",
        "        y = scaled_dot_product_attention(inputs=[q,k,v])\n",
        "        \n",
        "        \n",
        "        return y\n",
        "\n",
        "from tensorflow import keras \n",
        "from tensorflow.keras.regularizers import l2\n",
        "from tensorflow.keras.layers import *\n",
        "from tensorflow.keras.applications import *\n",
        "def load_model():   \n",
        "  \n",
        "  K.clear_session() \n",
        "  mod=densenet.DenseNet121(include_top=True, weights='imagenet')\n",
        "  d = mod.get_layer('conv5_block16_concat').output\n",
        "\n",
        "  inp = mod.get_layer('conv3_block12_concat').output\n",
        "  a = Reshape((28*28,512))(inp)\n",
        "  d_a = keras.layers.UpSampling2D(interpolation='bilinear',size=(4,4))(d)\n",
        "  d_a = Reshape((28*28,1024))(d_a)\n",
        "  a = abc(hidden_dim=512)([a,d_a,a])\n",
        "  a = LayerNormalization()(a)\n",
        "  a = Reshape((28,28,512,))(a)\n",
        "  a = keras.layers.GlobalAveragePooling2D()(a)\n",
        "\n",
        "  inp = mod.get_layer('conv4_block24_concat').output\n",
        "  b = Reshape((14*14,1024))(inp)\n",
        "  d_b = keras.layers.UpSampling2D(interpolation='bilinear',size=(2,2))(d)\n",
        "  d_b = Reshape((14*14,1024))(d_b)\n",
        "  b = abc(hidden_dim=1024)([b,d_b,b])\n",
        "  b = LayerNormalization()(b)\n",
        "  b = Reshape((14,14,1024,))(b)\n",
        "  b = keras.layers.GlobalAveragePooling2D()(b)\n",
        "\n",
        "  d = keras.layers.GlobalAveragePooling2D()(d)\n",
        "  \n",
        "\n",
        "  b = Dense(3, activation=\"softmax\")(b) \n",
        "  b = Reshape((-1,3))(b) \n",
        "  a = Dense(3, activation=\"softmax\")(a) \n",
        "  a = Reshape((-1,3))(a) \n",
        "  d = Dense(3, activation=\"softmax\")(d) \n",
        "  d = Reshape((-1,3))(d) \n",
        "  \n",
        "  conc=Concatenate(axis=1)([a,b,d])\n",
        "  conc=keras.layers.GlobalAveragePooling1D()(conc)\n",
        "  mod=Model(inputs=mod.input,outputs=conc)\n",
        "  # mod.load_weights('../input/global-3535-fold-1-1/weights.hdf5')\n",
        "  # for layer in mod.layers:\n",
        "  #   layer.trainable=False\n",
        "  a=mod.layers[-9].output\n",
        "  b=mod.layers[-10].output\n",
        "  d=mod.layers[-11].output\n",
        "  b = Dense(1, activation=\"sigmoid\")(b) \n",
        "  b = Reshape((-1,1))(b) \n",
        "  a = Dense(1, activation=\"sigmoid\")(a) \n",
        "  a = Reshape((-1,1))(a) \n",
        "  d = Dense(1, activation=\"sigmoid\")(d) \n",
        "  d = Reshape((-1,1))(d) \n",
        "  conc=Concatenate(axis=1)([a,b,d])\n",
        "  conc=keras.layers.GlobalAveragePooling1D()(conc)\n",
        "  mod=Model(inputs=mod.input,outputs=conc)\n",
        "  return mod\n",
        "\n",
        "mod=load_model()"
      ],
      "execution_count": 5,
      "outputs": []
    },
    {
      "cell_type": "code",
      "metadata": {
        "id": "a4t7V-e99Eg-"
      },
      "source": [
        "\n",
        "\n",
        "from imgaug import augmenters as iaa\n",
        "def rotate_image(image, angle):\n",
        "  image_center = tuple(np.array(image.shape[1::-1]) / 2)\n",
        "  rot_mat = cv2.getRotationMatrix2D(image_center, angle, 1.0)\n",
        "  result = cv2.warpAffine(image, rot_mat, image.shape[1::-1], flags=cv2.INTER_LINEAR)\n",
        "  return result\n",
        "def Hflip( images):\n",
        "\t\tseq = iaa.Sequential([iaa.Fliplr(1.0)])\n",
        "\t\treturn seq.augment_images(images)\n",
        "def Vflip( images):\n",
        "\t\tseq = iaa.Sequential([iaa.Flipud(1.0)])\n",
        "\t\treturn seq.augment_images(images)\n",
        "def noise(images):\n",
        "    ls=[]\n",
        "    for i in images:\n",
        "        x = np.random.normal(loc=0, scale=0.05, size=(299,299,3))\n",
        "        ls.append(i+x)\n",
        "    return ls\n",
        "def rotate(images):\n",
        "    ls=[]\n",
        "    for angle in range(-15,20,5):\n",
        "        for image in images:\n",
        "            ls.append(rotate_image(image,angle))\n",
        "    return ls\n",
        "\n",
        "class DataGenerator(keras.utils.Sequence):\n",
        "  def __init__(self, images, labels, batch_size=64, image_dimensions = (96 ,96 ,3), shuffle=False, augment=False):\n",
        "    self.labels       = labels              # array of labels\n",
        "    self.images = images        # array of image paths\n",
        "    self.batch_size   = batch_size          # batch size\n",
        "    self.on_epoch_end()\n",
        "\n",
        "  def __len__(self):\n",
        "    return int(np.floor(self.labels.shape[0] / self.batch_size))\n",
        "\n",
        "  def on_epoch_end(self):\n",
        "    self.indexes = np.arange(self.labels.shape[0])\n",
        "\n",
        "  def __getitem__(self, index):\n",
        "\t\t# selects indices of data for next batch\n",
        "    indexes = self.indexes[index * self.batch_size : (index + 1) * self.batch_size]\n",
        "    # select data and load images\n",
        "    labels = self.labels[indexes]\n",
        "    img = [self.images[k].astype(np.float32) for k in indexes]\n",
        "    imgH=Hflip(img)\n",
        "    imgV=Vflip(img)\n",
        "    imgR=rotate(img)\n",
        "    images=[]\n",
        "    images.extend(imgH)\n",
        "    images.extend(imgV)\n",
        "    images.extend(imgR)\n",
        "    lbl=labels.copy()\n",
        "    labels=np.repeat(labels,9)\n",
        "    del([imgV,imgR,imgH,lbl])\n",
        "    gc.collect()\n",
        "    #images = np.array([preprocess_input(img) for img in images])\n",
        "    return np.asarray(images).astype('float16'), labels.astype('uint8')\n",
        "\n",
        "\n"
      ],
      "execution_count": 6,
      "outputs": []
    },
    {
      "cell_type": "code",
      "metadata": {
        "colab": {
          "base_uri": "https://localhost:8080/"
        },
        "id": "UulC6f8x9GyG",
        "outputId": "565c8bf8-59d7-4ae2-9102-9527f3912f40"
      },
      "source": [
        "import cv2\n",
        "import gc\n",
        "from tensorflow.keras.optimizers import *\n",
        "train_data = DataGenerator(X_train,y_train, batch_size=4, augment=True)\n",
        "mod.compile(optimizer=Adam(5e-5,decay=1e-4), loss='binary_crossentropy', metrics=['accuracy'])\n",
        "hist=mod.fit_generator(train_data,epochs=50)\n",
        "gc.collect()"
      ],
      "execution_count": 7,
      "outputs": [
        {
          "output_type": "stream",
          "text": [
            "/usr/local/lib/python3.7/dist-packages/tensorflow/python/keras/engine/training.py:1940: UserWarning: `Model.fit_generator` is deprecated and will be removed in a future version. Please use `Model.fit`, which supports generators.\n",
            "  warnings.warn('`Model.fit_generator` is deprecated and '\n"
          ],
          "name": "stderr"
        },
        {
          "output_type": "stream",
          "text": [
            "Epoch 1/50\n",
            "81/81 [==============================] - 67s 609ms/step - loss: 0.7257 - accuracy: 0.5353\n",
            "Epoch 2/50\n",
            "81/81 [==============================] - 48s 592ms/step - loss: 0.6878 - accuracy: 0.5473\n",
            "Epoch 3/50\n",
            "81/81 [==============================] - 49s 599ms/step - loss: 0.6785 - accuracy: 0.5737\n",
            "Epoch 4/50\n",
            "81/81 [==============================] - 48s 595ms/step - loss: 0.6960 - accuracy: 0.5360\n",
            "Epoch 5/50\n",
            "81/81 [==============================] - 49s 597ms/step - loss: 0.6765 - accuracy: 0.5847\n",
            "Epoch 6/50\n",
            "81/81 [==============================] - 50s 609ms/step - loss: 0.6709 - accuracy: 0.5974\n",
            "Epoch 7/50\n",
            "81/81 [==============================] - 48s 591ms/step - loss: 0.6462 - accuracy: 0.6392\n",
            "Epoch 8/50\n",
            "81/81 [==============================] - 49s 600ms/step - loss: 0.6371 - accuracy: 0.6776\n",
            "Epoch 9/50\n",
            "81/81 [==============================] - 49s 597ms/step - loss: 0.5834 - accuracy: 0.7147\n",
            "Epoch 10/50\n",
            "81/81 [==============================] - 49s 597ms/step - loss: 0.5239 - accuracy: 0.7593\n",
            "Epoch 11/50\n",
            "81/81 [==============================] - 49s 598ms/step - loss: 0.4553 - accuracy: 0.8131\n",
            "Epoch 12/50\n",
            "81/81 [==============================] - 49s 598ms/step - loss: 0.4139 - accuracy: 0.8008\n",
            "Epoch 13/50\n",
            "81/81 [==============================] - 49s 598ms/step - loss: 0.3431 - accuracy: 0.8443\n",
            "Epoch 14/50\n",
            "81/81 [==============================] - 49s 598ms/step - loss: 0.2887 - accuracy: 0.8721\n",
            "Epoch 15/50\n",
            "81/81 [==============================] - 49s 598ms/step - loss: 0.2050 - accuracy: 0.9160\n",
            "Epoch 16/50\n",
            "81/81 [==============================] - 49s 598ms/step - loss: 0.1763 - accuracy: 0.9362\n",
            "Epoch 17/50\n",
            "81/81 [==============================] - 49s 598ms/step - loss: 0.1286 - accuracy: 0.9564\n",
            "Epoch 18/50\n",
            "81/81 [==============================] - 49s 598ms/step - loss: 0.1340 - accuracy: 0.9503\n",
            "Epoch 19/50\n",
            "81/81 [==============================] - 49s 598ms/step - loss: 0.0981 - accuracy: 0.9688\n",
            "Epoch 20/50\n",
            "81/81 [==============================] - 49s 598ms/step - loss: 0.0735 - accuracy: 0.9805\n",
            "Epoch 21/50\n",
            "81/81 [==============================] - 49s 598ms/step - loss: 0.0626 - accuracy: 0.9815\n",
            "Epoch 22/50\n",
            "81/81 [==============================] - 49s 599ms/step - loss: 0.0575 - accuracy: 0.9856\n",
            "Epoch 23/50\n",
            "81/81 [==============================] - 49s 599ms/step - loss: 0.0450 - accuracy: 0.9887\n",
            "Epoch 24/50\n",
            "81/81 [==============================] - 48s 589ms/step - loss: 0.0333 - accuracy: 0.9911\n",
            "Epoch 25/50\n",
            "81/81 [==============================] - 49s 598ms/step - loss: 0.0282 - accuracy: 0.9918\n",
            "Epoch 26/50\n",
            "81/81 [==============================] - 48s 596ms/step - loss: 0.0221 - accuracy: 0.9931\n",
            "Epoch 27/50\n",
            "81/81 [==============================] - 48s 596ms/step - loss: 0.0194 - accuracy: 0.9931\n",
            "Epoch 28/50\n",
            "81/81 [==============================] - 48s 596ms/step - loss: 0.0176 - accuracy: 0.9931\n",
            "Epoch 29/50\n",
            "81/81 [==============================] - 49s 596ms/step - loss: 0.0162 - accuracy: 0.9931\n",
            "Epoch 30/50\n",
            "81/81 [==============================] - 48s 596ms/step - loss: 0.0152 - accuracy: 0.9931\n",
            "Epoch 31/50\n",
            "81/81 [==============================] - 48s 596ms/step - loss: 0.0144 - accuracy: 0.9931\n",
            "Epoch 32/50\n",
            "81/81 [==============================] - 49s 597ms/step - loss: 0.0137 - accuracy: 0.9931\n",
            "Epoch 33/50\n",
            "81/81 [==============================] - 48s 595ms/step - loss: 0.0131 - accuracy: 0.9931\n",
            "Epoch 34/50\n",
            "81/81 [==============================] - 48s 595ms/step - loss: 0.0127 - accuracy: 0.9931\n",
            "Epoch 35/50\n",
            "81/81 [==============================] - 48s 596ms/step - loss: 0.0122 - accuracy: 0.9931\n",
            "Epoch 36/50\n",
            "81/81 [==============================] - 48s 596ms/step - loss: 0.0119 - accuracy: 0.9931\n",
            "Epoch 37/50\n",
            "81/81 [==============================] - 48s 595ms/step - loss: 0.0121 - accuracy: 0.9931\n",
            "Epoch 38/50\n",
            "81/81 [==============================] - 48s 596ms/step - loss: 0.0110 - accuracy: 0.9935\n",
            "Epoch 39/50\n",
            "81/81 [==============================] - 48s 595ms/step - loss: 0.0098 - accuracy: 0.9952\n",
            "Epoch 40/50\n",
            "81/81 [==============================] - 48s 595ms/step - loss: 0.0092 - accuracy: 0.9955\n",
            "Epoch 41/50\n",
            "81/81 [==============================] - 49s 596ms/step - loss: 0.0087 - accuracy: 0.9959\n",
            "Epoch 42/50\n",
            "81/81 [==============================] - 48s 595ms/step - loss: 0.0085 - accuracy: 0.9959\n",
            "Epoch 43/50\n",
            "81/81 [==============================] - 48s 595ms/step - loss: 0.0084 - accuracy: 0.9959\n",
            "Epoch 44/50\n",
            "81/81 [==============================] - 48s 595ms/step - loss: 0.0082 - accuracy: 0.9959\n",
            "Epoch 45/50\n",
            "81/81 [==============================] - 48s 595ms/step - loss: 0.0081 - accuracy: 0.9959\n",
            "Epoch 46/50\n",
            "81/81 [==============================] - 48s 595ms/step - loss: 0.0080 - accuracy: 0.9959\n",
            "Epoch 47/50\n",
            "81/81 [==============================] - 48s 595ms/step - loss: 0.0080 - accuracy: 0.9959\n",
            "Epoch 48/50\n",
            "81/81 [==============================] - 48s 595ms/step - loss: 0.0079 - accuracy: 0.9959\n",
            "Epoch 49/50\n",
            "81/81 [==============================] - 48s 596ms/step - loss: 0.0078 - accuracy: 0.9959\n",
            "Epoch 50/50\n",
            "81/81 [==============================] - 48s 595ms/step - loss: 0.0078 - accuracy: 0.9959\n"
          ],
          "name": "stdout"
        },
        {
          "output_type": "execute_result",
          "data": {
            "text/plain": [
              "0"
            ]
          },
          "metadata": {
            "tags": []
          },
          "execution_count": 7
        }
      ]
    },
    {
      "cell_type": "code",
      "metadata": {
        "id": "PD0ya6rDBGjB",
        "colab": {
          "base_uri": "https://localhost:8080/",
          "height": 283
        },
        "outputId": "0549b3f2-dc03-4957-c114-f00a18cb03f9"
      },
      "source": [
        "from matplotlib import pyplot as plt\n",
        "plt.plot(hist.history['loss'])"
      ],
      "execution_count": 8,
      "outputs": [
        {
          "output_type": "execute_result",
          "data": {
            "text/plain": [
              "[<matplotlib.lines.Line2D at 0x7f98cf0f5850>]"
            ]
          },
          "metadata": {
            "tags": []
          },
          "execution_count": 8
        },
        {
          "output_type": "display_data",
          "data": {
            "image/png": "[encoded data removed]",
            "text/plain": [
              "<Figure size 432x288 with 1 Axes>"
            ]
          },
          "metadata": {
            "tags": [],
            "needs_background": "light"
          }
        }
      ]
    },
    {
      "cell_type": "code",
      "metadata": {
        "id": "P1MYbBZvaZBI",
        "colab": {
          "base_uri": "https://localhost:8080/"
        },
        "outputId": "989b9f93-635b-40a2-ac7b-bd10b2b13c14"
      },
      "source": [
        "pre=mod.predict(X_test)\n",
        "from sklearn.metrics import accuracy_score\n",
        "accuracy_score(np.round(pre),y_test)"
      ],
      "execution_count": 9,
      "outputs": [
        {
          "output_type": "execute_result",
          "data": {
            "text/plain": [
              "0.6273291925465838"
            ]
          },
          "metadata": {
            "tags": []
          },
          "execution_count": 9
        }
      ]
    },
    {
      "cell_type": "code",
      "metadata": {
        "id": "h6iKXL47apzO"
      },
      "source": [
        ""
      ],
      "execution_count": 9,
      "outputs": []
    }
  ]
}